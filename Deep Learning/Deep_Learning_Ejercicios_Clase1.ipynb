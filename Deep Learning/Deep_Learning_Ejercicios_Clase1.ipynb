{
  "cells": [
    {
      "cell_type": "markdown",
      "metadata": {
        "id": "view-in-github",
        "colab_type": "text"
      },
      "source": [
        "<a href=\"https://colab.research.google.com/github/Julianfried/Diplomatura-en-IA-Instituto-Humai/blob/main/Deep%20Learning/Deep_Learning_Ejercicios_Clase1.ipynb\" target=\"_parent\"><img src=\"https://colab.research.google.com/assets/colab-badge.svg\" alt=\"Open In Colab\"/></a>"
      ]
    },
    {
      "cell_type": "markdown",
      "metadata": {
        "id": "L_lL-IT9yU4F"
      },
      "source": [
        "<a href=\"https://colab.research.google.com/github/institutohumai/cursos-python/blob/master/DeepLearning/1_Introduccion/ejercicios/ejercicios.ipynb\"> <img src='https://colab.research.google.com/assets/colab-badge.svg' /> </a>"
      ]
    },
    {
      "cell_type": "markdown",
      "metadata": {
        "id": "ZIyMzJmXpDdH"
      },
      "source": [
        "### Ejercicio 1\n",
        "Generar un tensor llamado x cuyo contenido sea el siguiente:\n",
        "\n",
        "![Imgur](https://i.imgur.com/rfaKGUG.png)"
      ]
    },
    {
      "cell_type": "code",
      "execution_count": 3,
      "metadata": {
        "id": "A5cbS3G9nQyg",
        "colab": {
          "base_uri": "https://localhost:8080/"
        },
        "outputId": "e14a71d6-9c5b-4089-a879-ebd67ce99519"
      },
      "outputs": [
        {
          "output_type": "execute_result",
          "data": {
            "text/plain": [
              "tensor([[[ 0,  2,  4,  6,  8],\n",
              "         [10, 12, 14, 16, 18],\n",
              "         [20, 22, 24, 26, 28]],\n",
              "\n",
              "        [[30, 32, 34, 36, 38],\n",
              "         [40, 42, 44, 46, 48],\n",
              "         [50, 52, 54, 56, 58]]])"
            ]
          },
          "metadata": {},
          "execution_count": 3
        }
      ],
      "source": [
        "import torch\n",
        "\n",
        "x = [2*x for x in range (2*3*5)]\n",
        "x = torch.tensor(x)\n",
        "x.reshape(2,3,5)"
      ]
    },
    {
      "cell_type": "markdown",
      "metadata": {
        "id": "dm_PLDM_ov2z"
      },
      "source": [
        "### Ejercicio 2\n",
        "Realizar los cambios necesarios en los siguientes tensores para que sea posible multiplicar cada columna del tensor \"X\" por el vector \"y\"."
      ]
    },
    {
      "cell_type": "code",
      "execution_count": 4,
      "metadata": {
        "id": "iYigasJnqJDe",
        "colab": {
          "base_uri": "https://localhost:8080/"
        },
        "outputId": "fcc2c4df-4acb-42ea-c049-83fe1f7577a7"
      },
      "outputs": [
        {
          "output_type": "execute_result",
          "data": {
            "text/plain": [
              "tensor([[[[1., 1., 1.],\n",
              "          [2., 2., 2.],\n",
              "          [3., 3., 3.],\n",
              "          [4., 4., 4.],\n",
              "          [5., 5., 5.]],\n",
              "\n",
              "         [[1., 1., 1.],\n",
              "          [2., 2., 2.],\n",
              "          [3., 3., 3.],\n",
              "          [4., 4., 4.],\n",
              "          [5., 5., 5.]],\n",
              "\n",
              "         [[1., 1., 1.],\n",
              "          [2., 2., 2.],\n",
              "          [3., 3., 3.],\n",
              "          [4., 4., 4.],\n",
              "          [5., 5., 5.]],\n",
              "\n",
              "         [[1., 1., 1.],\n",
              "          [2., 2., 2.],\n",
              "          [3., 3., 3.],\n",
              "          [4., 4., 4.],\n",
              "          [5., 5., 5.]]],\n",
              "\n",
              "\n",
              "        [[[1., 1., 1.],\n",
              "          [2., 2., 2.],\n",
              "          [3., 3., 3.],\n",
              "          [4., 4., 4.],\n",
              "          [5., 5., 5.]],\n",
              "\n",
              "         [[1., 1., 1.],\n",
              "          [2., 2., 2.],\n",
              "          [3., 3., 3.],\n",
              "          [4., 4., 4.],\n",
              "          [5., 5., 5.]],\n",
              "\n",
              "         [[1., 1., 1.],\n",
              "          [2., 2., 2.],\n",
              "          [3., 3., 3.],\n",
              "          [4., 4., 4.],\n",
              "          [5., 5., 5.]],\n",
              "\n",
              "         [[1., 1., 1.],\n",
              "          [2., 2., 2.],\n",
              "          [3., 3., 3.],\n",
              "          [4., 4., 4.],\n",
              "          [5., 5., 5.]]]])"
            ]
          },
          "metadata": {},
          "execution_count": 4
        }
      ],
      "source": [
        "X = torch.ones(2, 4, 5, 3)\n",
        "y = torch.tensor([1,2,3,4,5])\n",
        "y = y.reshape(1,5,1)\n",
        "X*y\n"
      ]
    },
    {
      "cell_type": "markdown",
      "metadata": {
        "id": "CTyfGqySrJ8B"
      },
      "source": [
        "###Ejercicio 3\n",
        "Descargar el dataset FashionMNIST y guardar en un tensor todas las imágenes de bolsos (label 8).\n",
        "\n",
        "Tip: use la función torch.stack para apilar una lista de tensores en uno solo"
      ]
    },
    {
      "cell_type": "code",
      "execution_count": 7,
      "metadata": {
        "id": "wQDjkQUjzqjE"
      },
      "outputs": [],
      "source": [
        "from torch.utils.data import Dataset\n",
        "from torchvision import datasets\n",
        "from torchvision.transforms import ToTensor\n",
        "import matplotlib.pyplot as plt\n",
        "\n",
        "training_data = datasets.FashionMNIST(root=\"data\", train=True, download=True, transform=ToTensor())\n",
        "bag_imgs = []\n",
        "\n",
        "for i in range(len(training_data)):\n",
        "  img, label = training_data[i]\n",
        "  if label == 8:\n",
        "    bag_imgs.append(img)\n",
        "\n",
        "bag_tensor = torch.stack(bag_imgs)\n"
      ]
    },
    {
      "cell_type": "code",
      "source": [
        "idx = torch.randint(len(bag_imgs), size=(1,)).item()\n",
        "plt.axis(\"off\")\n",
        "plt.imshow(bag_tensor[idx,0,:,:], cmap=\"gray\")\n",
        "plt.show()"
      ],
      "metadata": {
        "colab": {
          "base_uri": "https://localhost:8080/",
          "height": 406
        },
        "id": "kkgK-hrnh1dP",
        "outputId": "7ca4ff6a-94b7-49eb-d5b9-57604febc8fd"
      },
      "execution_count": 8,
      "outputs": [
        {
          "output_type": "display_data",
          "data": {
            "text/plain": [
              "<Figure size 640x480 with 1 Axes>"
            ],
            "image/png": "[encoded data removed]"
          },
          "metadata": {}
        }
      ]
    },
    {
      "cell_type": "code",
      "source": [
        "training_data"
      ],
      "metadata": {
        "colab": {
          "base_uri": "https://localhost:8080/"
        },
        "id": "5YvXYRQ6h6xh",
        "outputId": "1ce26bb7-3d05-419e-83ba-17a12f1d0cee"
      },
      "execution_count": 9,
      "outputs": [
        {
          "output_type": "execute_result",
          "data": {
            "text/plain": [
              "Dataset FashionMNIST\n",
              "    Number of datapoints: 60000\n",
              "    Root location: data\n",
              "    Split: Train\n",
              "    StandardTransform\n",
              "Transform: ToTensor()"
            ]
          },
          "metadata": {},
          "execution_count": 9
        }
      ]
    },
    {
      "cell_type": "markdown",
      "metadata": {
        "id": "_AO78OtBvwuu"
      },
      "source": [
        "###Ejercicio 4\n",
        "Use autograd para graficar el gradiente de la siguiente función aplicada sobre el tensor \"x\".\n",
        "\n",
        "$$f(x) = \\tan(2x+ \\frac{\\pi}{2}) $$\n",
        "\n",
        "Graficar entre 0 y 2$\\pi$."
      ]
    },
    {
      "cell_type": "code",
      "execution_count": 10,
      "metadata": {
        "id": "O3NaD8_XtUBw",
        "colab": {
          "base_uri": "https://localhost:8080/"
        },
        "outputId": "f654bd55-0f9f-4ad0-a988-a9f360110892"
      },
      "outputs": [
        {
          "output_type": "execute_result",
          "data": {
            "text/plain": [
              "tensor(-1.3420e+08, grad_fn=<SumBackward0>)"
            ]
          },
          "metadata": {},
          "execution_count": 10
        }
      ],
      "source": [
        "import math\n",
        "x= torch.linspace(0., 2. * math.pi, steps=25, requires_grad=True)\n",
        "fx = torch.tan(2*x+math.pi/2).sum()\n",
        "fx"
      ]
    },
    {
      "cell_type": "code",
      "source": [
        "print('fx:')\n",
        "print(fx.grad_fn)\n",
        "print(fx.grad_fn.next_functions)\n",
        "print(fx.grad_fn.next_functions[0][0].next_functions)\n",
        "print(fx.grad_fn.next_functions[0][0].next_functions[0][0].next_functions)\n",
        "print(fx.grad_fn.next_functions[0][0].next_functions[0][0].next_functions[0][0].next_functions)"
      ],
      "metadata": {
        "colab": {
          "base_uri": "https://localhost:8080/"
        },
        "id": "tcZ8q9BFigVN",
        "outputId": "7f86db17-4fab-4761-f150-f2caf0704edd"
      },
      "execution_count": 11,
      "outputs": [
        {
          "output_type": "stream",
          "name": "stdout",
          "text": [
            "fx:\n",
            "<SumBackward0 object at 0x795b0000f550>\n",
            "((<TanBackward0 object at 0x795b001d7520>, 0),)\n",
            "((<AddBackward0 object at 0x795b0000f550>, 0),)\n",
            "((<MulBackward0 object at 0x795b001d62c0>, 0), (None, 0))\n",
            "((<AccumulateGrad object at 0x795b0000f550>, 0), (None, 0))\n"
          ]
        }
      ]
    },
    {
      "cell_type": "code",
      "source": [
        "fx.backward()\n",
        "print(x.grad)\n",
        "plt.plot(x.detach(), x.grad.detach())"
      ],
      "metadata": {
        "colab": {
          "base_uri": "https://localhost:8080/",
          "height": 549
        },
        "id": "jtxuB89diqIp",
        "outputId": "6ba260e7-0fd6-4574-d689-166619555448"
      },
      "execution_count": 12,
      "outputs": [
        {
          "output_type": "stream",
          "name": "stdout",
          "text": [
            "tensor([1.0467e+15, 8.0000e+00, 2.6667e+00, 2.0000e+00, 2.6667e+00, 8.0000e+00,\n",
            "        1.4064e+16, 8.0000e+00, 2.6667e+00, 2.0000e+00, 2.6667e+00, 8.0000e+00,\n",
            "        1.7531e+13, 8.0000e+00, 2.6667e+00, 2.0000e+00, 2.6667e+00, 8.0000e+00,\n",
            "        2.3770e+13, 8.0000e+00, 2.6667e+00, 2.0000e+00, 2.6667e+00, 8.0000e+00,\n",
            "        1.5627e+15])\n"
          ]
        },
        {
          "output_type": "execute_result",
          "data": {
            "text/plain": [
              "[<matplotlib.lines.Line2D at 0x795afffc8940>]"
            ]
          },
          "metadata": {},
          "execution_count": 12
        },
        {
          "output_type": "display_data",
          "data": {
            "text/plain": [
              "<Figure size 640x480 with 1 Axes>"
            ],
            "image/png": "[encoded data removed]"
          },
          "metadata": {}
        }
      ]
    }
  ],
  "metadata": {
    "colab": {
      "provenance": [],
      "include_colab_link": true
    },
    "kernelspec": {
      "display_name": "Python 3",
      "name": "python3"
    },
    "language_info": {
      "name": "python"
    }
  },
  "nbformat": 4,
  "nbformat_minor": 0
}