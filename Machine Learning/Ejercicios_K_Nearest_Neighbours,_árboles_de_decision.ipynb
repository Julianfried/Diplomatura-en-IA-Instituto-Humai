{
  "nbformat": 4,
  "nbformat_minor": 0,
  "metadata": {
    "colab": {
      "provenance": [],
      "include_colab_link": true
    },
    "kernelspec": {
      "name": "python3",
      "display_name": "Python 3"
    },
    "language_info": {
      "name": "python"
    }
  },
  "cells": [
    {
      "cell_type": "markdown",
      "metadata": {
        "id": "view-in-github",
        "colab_type": "text"
      },
      "source": [
        "<a href=\"https://colab.research.google.com/github/Julianfried/Diplomatura-en-IA-Instituto-Humai/blob/main/Machine%20Learning/Ejercicios_K_Nearest_Neighbours%2C_%C3%A1rboles_de_decision.ipynb\" target=\"_parent\"><img src=\"https://colab.research.google.com/assets/colab-badge.svg\" alt=\"Open In Colab\"/></a>"
      ]
    },
    {
      "cell_type": "markdown",
      "source": [
        "## Predicción con K-Nearest Neighbours\n",
        "Dado un dataset (por ejemplo, el dataset de cancer de mama), implementar un modelo K-Nearest Neighbours para predecir el tipo de tumor (maligno o benigno). Determinar el número óptimo de vecinos a considerar (k) y evaluar el performance del modelo usando la métrica de *accuracy*."
      ],
      "metadata": {
        "id": "DLiyDTddoU-4"
      }
    },
    {
      "cell_type": "code",
      "execution_count": 5,
      "metadata": {
        "id": "ftdS0PJ-oNzt",
        "colab": {
          "base_uri": "https://localhost:8080/"
        },
        "outputId": "81352a5e-1a46-4445-d838-c0d673450072"
      },
      "outputs": [
        {
          "output_type": "stream",
          "name": "stdout",
          "text": [
            "Mejor K: 11, Mejor Score: 0.9824561403508771\n"
          ]
        }
      ],
      "source": [
        "from sklearn.neighbors import KNeighborsClassifier\n",
        "from sklearn.metrics import accuracy_score\n",
        "from sklearn.model_selection import train_test_split\n",
        "from sklearn.datasets import load_breast_cancer\n",
        "from sklearn.model_selection import cross_val_score\n",
        "\n",
        "#Posible Dataset:\n",
        "from sklearn.datasets import load_breast_cancer\n",
        "\n",
        "data = load_breast_cancer()\n",
        "X= data.data\n",
        "y=data.target\n",
        "\n",
        "X_train, X_test, y_train, y_test = train_test_split(X,y,test_size=0.2,random_state=42)\n",
        "\n",
        "best_k, best_score = 0, 0\n",
        "\n",
        "for k in range(1,30):\n",
        "  knn = KNeighborsClassifier(n_neighbors=k)\n",
        "  knn.fit(X_train, y_train)\n",
        "\n",
        "  predictions=knn.predict(X_test)\n",
        "  score=accuracy_score(y_test, predictions)\n",
        "\n",
        "  if score > best_score:\n",
        "    best_k, best_score = k , score\n",
        "print(f'Mejor K: {best_k}, Mejor Score: {best_score}')"
      ]
    },
    {
      "cell_type": "markdown",
      "source": [
        "## Evitando Overfitting en KNN\n",
        "Usar cross-validation para encontrar el mejor valor de k en el modelo de K-Nearest Neighbours y minimizar el overfitting.\n"
      ],
      "metadata": {
        "id": "xaXnNeDvoX9o"
      }
    },
    {
      "cell_type": "code",
      "source": [
        "val_scores = []\n",
        "for k in range(1,30):\n",
        "  knn = KNeighborsClassifier(n_neighbors=k)\n",
        "  scores= cross_val_score(knn, X_train, y_train, cv=5)\n",
        "  val_scores.append(scores.mean())\n",
        "\n",
        "best_k = val_scores.index(max(val_scores)) + 1\n",
        "\n",
        "print(f'Mejor K: {best_k}, Mejor Score: {max(val_scores)}')"
      ],
      "metadata": {
        "id": "lviL3HFeUUC4",
        "colab": {
          "base_uri": "https://localhost:8080/"
        },
        "outputId": "b30c53e6-a6c9-476d-d8f6-bcb9b7eb9b72"
      },
      "execution_count": 6,
      "outputs": [
        {
          "output_type": "stream",
          "name": "stdout",
          "text": [
            "Mejor K: 9, Mejor Score: 0.9274725274725274\n"
          ]
        }
      ]
    },
    {
      "cell_type": "markdown",
      "source": [
        "## Controlando el Sobreajuste en un Árbol de Decisión\n",
        "Implementar el método de Minimal Cost-Complexity Pruning para controlar el sobreajuste en el modelo de árbol de decisión. Examinar el impacto de diferentes valores del hiperparámetro ccp_alpha en el rendimiento del modelo."
      ],
      "metadata": {
        "id": "0c_46bofoayA"
      }
    },
    {
      "cell_type": "code",
      "source": [
        "from sklearn.tree import DecisionTreeClassifier\n",
        "\n",
        "clf = DecisionTreeClassifier(random_state=0)\n",
        "path = clf.cost_complexity_pruning_path(X_train, y_train)\n",
        "ccp_alphas = path.ccp_alphas\n",
        "\n",
        "scores = []\n",
        "trees = []\n",
        "\n",
        "for ccp_alpha in ccp_alphas:\n",
        "  clf = DecisionTreeClassifier(random_state=0, ccp_alpha=ccp_alpha)\n",
        "  clf.fit(X_train, y_train)\n",
        "  trees.append(clf)\n",
        "  predictions = clf.predict(X_test)\n",
        "  score = accuracy_score(y_test, predictions)\n",
        "  scores.append(score)\n",
        "\n",
        "n_nodes = [tree.tree_.node_count for tree in trees]\n",
        "depth = [tree.tree_.max_depth for tree in trees]\n",
        "\n",
        "print(\"Número de nodos: \", n_nodes)\n",
        "print(\"Profundidad: \", depth)\n",
        "print(\"Exactitud para cada valor de ccp_alpha: \", scores)\n"
      ],
      "metadata": {
        "id": "DRv6E1JDUUpq",
        "colab": {
          "base_uri": "https://localhost:8080/"
        },
        "outputId": "5542c65a-4967-4374-bf6e-1425f10f2d6e"
      },
      "execution_count": 8,
      "outputs": [
        {
          "output_type": "stream",
          "name": "stdout",
          "text": [
            "Número de nodos:  [31, 23, 21, 19, 17, 15, 13, 11, 9, 7, 5, 3, 1]\n",
            "Profundidad:  [7, 4, 4, 4, 4, 4, 4, 4, 3, 2, 2, 1, 0]\n",
            "Exactitud para cada valor de ccp_alpha:  [0.9385964912280702, 0.9385964912280702, 0.9385964912280702, 0.9473684210526315, 0.956140350877193, 0.956140350877193, 0.956140350877193, 0.956140350877193, 0.9473684210526315, 0.9298245614035088, 0.9122807017543859, 0.8947368421052632, 0.6228070175438597]\n"
          ]
        }
      ]
    }
  ]
}