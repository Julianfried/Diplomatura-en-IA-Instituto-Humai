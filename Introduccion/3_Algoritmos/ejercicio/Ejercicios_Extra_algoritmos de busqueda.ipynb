{
  "nbformat": 4,
  "nbformat_minor": 0,
  "metadata": {
    "colab": {
      "provenance": [],
      "include_colab_link": true
    },
    "kernelspec": {
      "name": "python3",
      "display_name": "Python 3"
    },
    "language_info": {
      "name": "python"
    }
  },
  "cells": [
    {
      "cell_type": "markdown",
      "metadata": {
        "id": "view-in-github",
        "colab_type": "text"
      },
      "source": [
        "<a href=\"https://colab.research.google.com/github/Julianfried/Diplomatura-en-IA-Instituto-Humai/blob/main/Ejercicios_Extra_algoritmos%20de%20busqueda.ipynb\" target=\"_parent\"><img src=\"https://colab.research.google.com/assets/colab-badge.svg\" alt=\"Open In Colab\"/></a>"
      ]
    },
    {
      "cell_type": "markdown",
      "source": [
        "## Descargar las funciones\n"
      ],
      "metadata": {
        "id": "1VjRmDmBGWSZ"
      }
    },
    {
      "cell_type": "code",
      "source": [
        "!wget https://github.com/PabloSGomez50/PabloSGomez50/blob/main/intro_3_humai.zip?raw=true\n",
        "!mv intro_3_humai.zip?raw=true intro_3_humai.zip\n",
        "!unzip intro_3_humai.zip"
      ],
      "metadata": {
        "id": "x7kf6OGEAgl0",
        "outputId": "7a991481-1f9f-40c8-fd71-deef5f3b1019",
        "colab": {
          "base_uri": "https://localhost:8080/"
        }
      },
      "execution_count": 1,
      "outputs": [
        {
          "output_type": "stream",
          "name": "stdout",
          "text": [
            "--2023-04-01 17:29:38--  https://github.com/PabloSGomez50/PabloSGomez50/blob/main/intro_3_humai.zip?raw=true\n",
            "Resolving github.com (github.com)... 140.82.112.3\n",
            "Connecting to github.com (github.com)|140.82.112.3|:443... connected.\n",
            "HTTP request sent, awaiting response... 302 Found\n",
            "Location: https://github.com/PabloSGomez50/PabloSGomez50/raw/main/intro_3_humai.zip [following]\n",
            "--2023-04-01 17:29:38--  https://github.com/PabloSGomez50/PabloSGomez50/raw/main/intro_3_humai.zip\n",
            "Reusing existing connection to github.com:443.\n",
            "HTTP request sent, awaiting response... 302 Found\n",
            "Location: https://raw.githubusercontent.com/PabloSGomez50/PabloSGomez50/main/intro_3_humai.zip [following]\n",
            "--2023-04-01 17:29:38--  https://raw.githubusercontent.com/PabloSGomez50/PabloSGomez50/main/intro_3_humai.zip\n",
            "Resolving raw.githubusercontent.com (raw.githubusercontent.com)... 185.199.108.133, 185.199.109.133, 185.199.110.133, ...\n",
            "Connecting to raw.githubusercontent.com (raw.githubusercontent.com)|185.199.108.133|:443... connected.\n",
            "HTTP request sent, awaiting response... 200 OK\n",
            "Length: 460 [application/zip]\n",
            "Saving to: ‘intro_3_humai.zip?raw=true’\n",
            "\n",
            "intro_3_humai.zip?r 100%[===================>]     460  --.-KB/s    in 0s      \n",
            "\n",
            "2023-04-01 17:29:38 (35.2 MB/s) - ‘intro_3_humai.zip?raw=true’ saved [460/460]\n",
            "\n",
            "Archive:  intro_3_humai.zip\n",
            "   creating: intro_3_humai/\n",
            "  inflating: intro_3_humai/ejercicio4.py  \n"
          ]
        }
      ]
    },
    {
      "cell_type": "code",
      "source": [
        "# Agregar comandos en python"
      ],
      "metadata": {
        "id": "Rw8YxMXcrZED"
      },
      "execution_count": null,
      "outputs": []
    },
    {
      "cell_type": "markdown",
      "source": [
        "# Ejercicios extra de la clase 3 - Modulos\n",
        "Temas a tratar:\n",
        "- Algoritmos\n",
        "- Ordenamiento \n",
        "- Busqueda  \n",
        "- Importar y usar modulos\n",
        "\n",
        "Opciones de datos para ejercicios:\n"
      ],
      "metadata": {
        "id": "RvA6mG1ifMpr"
      }
    },
    {
      "cell_type": "markdown",
      "source": [
        "## 1.1) Algoritmo para transformar valores de temperatura\n",
        "\n",
        "\n",
        "\n",
        "\n",
        "\n",
        "\n",
        "- De grados Celsius a Fahrenheit.\n",
        "\\begin{equation}\n",
        "°F = °C \\times \\frac{9}{5} + 32\n",
        "\\end{equation}\n",
        "- De grados Fahrenheit a Celsius.\n",
        "\\begin{equation}\n",
        "°C = °F \\times \\frac{5}{9} - 32\n",
        "\\end{equation}"
      ],
      "metadata": {
        "id": "7Ly7goGa3s2R"
      }
    },
    {
      "cell_type": "code",
      "source": [
        "def celsius_a_fahrenheit(c):\n",
        "  return c * (9/5) + 32\n",
        "\n"
      ],
      "metadata": {
        "id": "sqB1-ciw3Cud"
      },
      "execution_count": 61,
      "outputs": []
    },
    {
      "cell_type": "code",
      "source": [
        "def fahrenheit_a_celsius(f):\n",
        "  return (f - 32)*(5/9)"
      ],
      "metadata": {
        "id": "cBiXTIyV9sd_"
      },
      "execution_count": 74,
      "outputs": []
    },
    {
      "cell_type": "code",
      "source": [
        "celsius_a_fahrenheit(15)"
      ],
      "metadata": {
        "id": "Dclg3csx9SJw",
        "outputId": "565bb059-26aa-4bb1-883c-b835062b4278",
        "colab": {
          "base_uri": "https://localhost:8080/"
        }
      },
      "execution_count": 66,
      "outputs": [
        {
          "output_type": "execute_result",
          "data": {
            "text/plain": [
              "59.0"
            ]
          },
          "metadata": {},
          "execution_count": 66
        }
      ]
    },
    {
      "cell_type": "code",
      "source": [
        "fahrenheit_a_celsius(59)"
      ],
      "metadata": {
        "id": "5qirofx39YtU",
        "outputId": "ddffeffd-67d7-493e-87bb-425ee5f4fc0a",
        "colab": {
          "base_uri": "https://localhost:8080/"
        }
      },
      "execution_count": 75,
      "outputs": [
        {
          "output_type": "execute_result",
          "data": {
            "text/plain": [
              "15.0"
            ]
          },
          "metadata": {},
          "execution_count": 75
        }
      ]
    },
    {
      "cell_type": "markdown",
      "source": [
        "## 1.2) Contar las vocales de una palabra *\n",
        "Ayuda:\n",
        "- Es recomendable usar la funcion **lower()** para obtener el string en minusculas."
      ],
      "metadata": {
        "id": "FviqLrT5trFv"
      }
    },
    {
      "cell_type": "code",
      "source": [
        "# Solucion\n",
        "palabras=['Hola', 'jugooOo', 'control']\n",
        "\n",
        "for palabra in palabras:\n",
        "  contador = 0\n",
        "  for letra in palabra:\n",
        "    if letra.lower() in 'aeiou':\n",
        "      contador+=1\n",
        "\n",
        "  print (palabra, contador)"
      ],
      "metadata": {
        "id": "Zowc3zTEtupH",
        "outputId": "390687af-24b0-4061-980e-29f501f0bc9b",
        "colab": {
          "base_uri": "https://localhost:8080/"
        }
      },
      "execution_count": 54,
      "outputs": [
        {
          "output_type": "stream",
          "name": "stdout",
          "text": [
            "Hola 2\n",
            "jugooOo 5\n",
            "control 2\n"
          ]
        }
      ]
    },
    {
      "cell_type": "markdown",
      "source": [
        "## 1.3) Isograma *\n",
        "Un isograma es una palabra que no tiene letras repetidas.\n",
        "- Crear una funcion si la palabra que se ingresa como parametro es un isograma\n"
      ],
      "metadata": {
        "id": "yQbM6GZupw5W"
      }
    },
    {
      "cell_type": "code",
      "source": [
        "# Solucion\n",
        "\n",
        "def isograma(palabra):\n",
        "  contador = 0\n",
        "  for letra in palabra:\n",
        "    if letra[0] not in palabra[0:-1]:\n",
        "      print('es un isograma')\n",
        "  if letra[0] in palabra[0:-1]:\n",
        "    print('no es')\n",
        "        "
      ],
      "metadata": {
        "id": "V3wURu1eqC9D"
      },
      "execution_count": 120,
      "outputs": []
    },
    {
      "cell_type": "code",
      "source": [
        "isograma('rico')"
      ],
      "metadata": {
        "id": "tHWK0Tif_rxh",
        "outputId": "e3af9888-0180-4736-bbfb-6fdfedd33ff8",
        "colab": {
          "base_uri": "https://localhost:8080/"
        }
      },
      "execution_count": 123,
      "outputs": [
        {
          "output_type": "stream",
          "name": "stdout",
          "text": [
            "es un isograma\n"
          ]
        }
      ]
    },
    {
      "cell_type": "markdown",
      "source": [
        "## 2.1) Algoritmo de busqueda simple\n",
        "Crear una funcion que reciba una lista de numeros y el numero que se esta buscando.\n",
        "\n",
        "Se debe recorrer la lista hasta:\n",
        "- Entrontrar el numero deseado y devolver su posicion\n",
        "- Llegar al final de la lista y devolver -1 (el valor no esta en la lista)\n",
        "---\n",
        "Ayuda:\n",
        "* Se puede utilizar la funcion [enumerate](https://docs.python.org/3/library/functions.html?highlight=enumerate#enumerate) para obtener el indice y el valor en la declaracion del for\n",
        "\n"
      ],
      "metadata": {
        "id": "vJDL8nZXi5wM"
      }
    },
    {
      "cell_type": "code",
      "source": [
        "prueba_enumerate = [1, 5, 3, 2, 7]\n",
        "\n",
        "list(enumerate(prueba_enumerate))"
      ],
      "metadata": {
        "id": "vyIWAq_zn3Xg",
        "outputId": "b803d4d2-894b-4fa1-c8fb-820028313f50",
        "colab": {
          "base_uri": "https://localhost:8080/"
        }
      },
      "execution_count": 126,
      "outputs": [
        {
          "output_type": "execute_result",
          "data": {
            "text/plain": [
              "[(0, 1), (1, 5), (2, 3), (3, 2), (4, 7)]"
            ]
          },
          "metadata": {},
          "execution_count": 126
        }
      ]
    },
    {
      "cell_type": "code",
      "source": [],
      "metadata": {
        "id": "LZ7dcU4LIW0A"
      },
      "execution_count": null,
      "outputs": []
    },
    {
      "cell_type": "code",
      "source": [
        "# Solucion\n",
        "def busqueda (lista_numeros=[], numero_buscado=0):\n",
        "  for i, numeros in enumerate(lista_numeros):\n",
        "    if numero_buscado == numeros:\n",
        "      encuentro = numero_buscado, i \n",
        "      return encuentro\n",
        "  return -1\n",
        "\n"
      ],
      "metadata": {
        "id": "Q9VhL0AdjLcK"
      },
      "execution_count": 158,
      "outputs": []
    },
    {
      "cell_type": "code",
      "source": [
        "busqueda([1, 5, 3, 2, 7, 9], 9)"
      ],
      "metadata": {
        "id": "JaM5SZ7kFY4w",
        "outputId": "c27f9e40-d642-4766-baad-129129ceb016",
        "colab": {
          "base_uri": "https://localhost:8080/"
        }
      },
      "execution_count": 163,
      "outputs": [
        {
          "output_type": "execute_result",
          "data": {
            "text/plain": [
              "(9, 5)"
            ]
          },
          "metadata": {},
          "execution_count": 163
        }
      ]
    },
    {
      "cell_type": "markdown",
      "source": [
        "## 2.2) Algoritmo de busqueda binaria\n",
        "Requiere de tener una lista de valores ordenados (utilizar la funcion built-in **[sort()](https://docs.python.org/3/library/stdtypes.html?highlight=sort%20built#list.sort)** de python)\n",
        "\n",
        "Este algoritmo analiza el elemento en el medio de la lista, al estar ordenada si el objeto buscado es mayor se encontrara a la derecha, si es menor se encontrara a la izquierda.\n",
        "\n",
        "Funcionamiento:\n",
        "\n",
        "Si la lista no tiene elementos se \n",
        "\n",
        "Se compara el elemento central de la lista:\n",
        "- Si es el objeto buscado se devuelve el indice.\n",
        "- Si el objeto buscado es mayor, se debe llamar a la funcion con la mitad superior de la lista.\n",
        "- Si el objeto buscado es menor, se debe llamar a la funcion con la mitad inferior de la lista."
      ],
      "metadata": {
        "id": "lizEJG0wi9te"
      }
    },
    {
      "cell_type": "code",
      "source": [
        "import random\n",
        "def create_list(n: int) -> list:\n",
        "  \"\"\"\n",
        "  Funcion que crea una lista de 'n' (int) numeros randoms ordenados\n",
        "  Input: n -> int\n",
        "  Output: lista -> list\n",
        "  \"\"\"\n",
        "  sort_lista = [random.randint(1, 25) for _ in range(20)]\n",
        "  sort_lista.sort()\n",
        "\n",
        "  return sort_lista\n"
      ],
      "metadata": {
        "id": "dsvxxJ5-P6ne"
      },
      "execution_count": 166,
      "outputs": []
    },
    {
      "cell_type": "code",
      "source": [
        "# Solucion\n",
        "lista = create_list(10)\n",
        "print(lista)"
      ],
      "metadata": {
        "id": "MPwCejuRjLNa",
        "colab": {
          "base_uri": "https://localhost:8080/"
        },
        "outputId": "402f6ee2-cdc6-4eb3-89be-08bd4c1fb38f"
      },
      "execution_count": 183,
      "outputs": [
        {
          "output_type": "stream",
          "name": "stdout",
          "text": [
            "[1, 1, 2, 2, 3, 5, 8, 8, 9, 11, 11, 12, 13, 16, 17, 18, 19, 20, 22, 25]\n"
          ]
        }
      ]
    },
    {
      "cell_type": "code",
      "source": [
        "def busqueda_binaria(lista,x):\n",
        "\n",
        "  izq = 0\n",
        "  der =len(lista)-1 \n",
        "  for num in lista:\n",
        "\n",
        "    medio=(izq+der)//2\n",
        "\n",
        "    if lista[medio] == x:\n",
        "      return medio\n",
        "    elif lista[medio] > x:\n",
        "      der = medio-1\n",
        "    else:\n",
        "      izq = medio + 1\n",
        "  return -1"
      ],
      "metadata": {
        "id": "RWn4Oo1aLpV-"
      },
      "execution_count": 178,
      "outputs": []
    },
    {
      "cell_type": "code",
      "source": [
        "busqueda_binaria(lista,16)"
      ],
      "metadata": {
        "id": "JhNQc-tWNN1-",
        "outputId": "5da8b76f-0676-4865-b28c-05fa9ac20861",
        "colab": {
          "base_uri": "https://localhost:8080/"
        }
      },
      "execution_count": 184,
      "outputs": [
        {
          "output_type": "execute_result",
          "data": {
            "text/plain": [
              "13"
            ]
          },
          "metadata": {},
          "execution_count": 184
        }
      ]
    }
  ]
}
