{
  "cells": [
    {
      "cell_type": "markdown",
      "metadata": {
        "id": "mh9ec0EU6yGo"
      },
      "source": [
        "<a href=\"https://colab.research.google.com/github/institutohumai/cursos-python/blob/master/Introduccion/4_Intro_Poo/ejercicio/ejercicio.ipynb\"> <img src='https://colab.research.google.com/assets/colab-badge.svg' /> </a>\n",
        "<div align=\"center\"> Recordá abrir en una nueva pestaña </div>"
      ]
    },
    {
      "cell_type": "markdown",
      "metadata": {
        "id": "eztOboWD6yGs"
      },
      "source": [
        "# Ejercicios POO IV\n",
        "\n",
        "## Programación orientada a objetos\n",
        "\n",
        "En este ejercicio vamos a programar un carrito de compras.\n",
        "\n",
        "Para esto vamos a escribir dos clases: Carrito e Item.\n",
        "\n",
        "El ítem va a tener como propiedades un nombre, un precio y una url de la imágen que lo representa. Por default, la url se inicializa en blanco.\n",
        "\n",
        "El Carrito tiene como propiedad una lista de diccionarios, la variable _lineas. \n",
        "\n",
        "Los carritos se inicializan vacíos y luego se agregan líneas utilizando el método agregar_línea(). Cada línea es un diccionario con dos claves: \"ítem\" que contiene un objeto de tipo ítem y \"cantidad\" según la cantidad que queremos agregar al carrito.\n",
        "\n",
        "Por último los carritos tienen un método get_total() que devuelve la suma de los precios de los ítems, multiplicados por las cantidades que hay en cada línea."
      ]
    },
    {
      "cell_type": "code",
      "execution_count": 4,
      "metadata": {
        "id": "LMJVWiJU6yGt"
      },
      "outputs": [],
      "source": [
        "# Clase Item\n",
        "class Item ():\n",
        "  def __init__(self,nombre, precio, url_imagen=''):\n",
        "    self.nombre = nombre\n",
        "    self.precio = precio\n",
        "    self.url_imagen = url_imagen\n",
        "  \n"
      ]
    },
    {
      "cell_type": "code",
      "execution_count": 5,
      "metadata": {
        "id": "5G7EgI9E6yGu"
      },
      "outputs": [],
      "source": [
        "# Crear los ítems banana de $49.5 y yoghurt de $32.5\n",
        "banana = Item(\"banana\", 49.5)\n",
        "yoghurt = Item(\"yoghurt\",32.5)"
      ]
    },
    {
      "cell_type": "code",
      "execution_count": 11,
      "metadata": {
        "id": "jSSfShYg6yGv"
      },
      "outputs": [],
      "source": [
        "# Crear la clase Carrito\n",
        "\n",
        "class Carrito():\n",
        "  def __init__(self):\n",
        "    self._lineas = []\n",
        "\n",
        "  def agregar_linea(self, linea):\n",
        "    self._lineas.append(linea)\n",
        "\n",
        "  def get_total(self):\n",
        "    total = 0\n",
        "    for linea in self._lineas:\n",
        "      total = total + (linea['cantidad'] * linea['item'].precio)\n",
        "    return total"
      ]
    },
    {
      "cell_type": "markdown",
      "metadata": {
        "id": "Nu18IKNJ6yGv"
      },
      "source": [
        "Ahora vamos a instanciar el carrito y agregarle una \"línea\" con dos bananas y otra con tres yoghures."
      ]
    },
    {
      "cell_type": "code",
      "execution_count": 16,
      "metadata": {
        "id": "TYe2GiQ56yGv"
      },
      "outputs": [],
      "source": [
        "# Instancias el carrito\n",
        "carrito = Carrito()"
      ]
    },
    {
      "cell_type": "code",
      "execution_count": 17,
      "metadata": {
        "id": "85jfNTBw6yGw"
      },
      "outputs": [],
      "source": [
        "# Agregar bananas\n",
        "carrito.agregar_linea({'item':banana, 'cantidad':3})"
      ]
    },
    {
      "cell_type": "code",
      "execution_count": 18,
      "metadata": {
        "id": "y9kOzCSA6yGw"
      },
      "outputs": [],
      "source": [
        "# Agregar yoghures\n",
        "carrito.agregar_linea({'item':yoghurt, 'cantidad':5})"
      ]
    },
    {
      "cell_type": "code",
      "execution_count": 19,
      "metadata": {
        "id": "GlYJxlUm6yGw",
        "outputId": "85fc498f-d257-49c3-9c01-4f7fb936fb6b",
        "colab": {
          "base_uri": "https://localhost:8080/"
        }
      },
      "outputs": [
        {
          "output_type": "execute_result",
          "data": {
            "text/plain": [
              "311.0"
            ]
          },
          "metadata": {},
          "execution_count": 19
        }
      ],
      "source": [
        "# Obtener el total\n",
        "carrito.get_total()"
      ]
    },
    {
      "cell_type": "markdown",
      "metadata": {
        "id": "FIP5NCiX6yGx"
      },
      "source": [
        "## Ejercicio II\n",
        "\n",
        "Ahora vamos a crear dos clases. Primero una clase Réctangulo con los métodos area y base. Y luego una clase más específica que sea la Clase Cuadrado que herede los métodos de la clase Rectángulo. \n",
        "\n",
        "Una vez logrado esto vamos a crear una Tercera clase llamada Cubo cuya clase base va a responder a Cuadrado. En esta clase vas a agregar un método que sea volumen utilizando el método Área de su clase base o madre. "
      ]
    },
    {
      "cell_type": "code",
      "execution_count": 20,
      "metadata": {
        "id": "djH-hqAl6yGx"
      },
      "outputs": [],
      "source": [
        "class Rectangulo():\n",
        "  def __init__(self, alto, ancho):\n",
        "    self.alto = alto\n",
        "    self.ancho = ancho\n",
        "\n",
        "  def area (self):\n",
        "    return self.alto * self.ancho\n",
        "  \n",
        "  def perimetro(self):\n",
        "    return self.alto * 2 + self.ancho * 2\n",
        "\n",
        "class Cuadrado(Rectangulo):\n",
        "  def __init__(self, alto):\n",
        "    super().__init__(alto, alto)"
      ]
    },
    {
      "cell_type": "code",
      "source": [
        "class Cubo (Cuadrado):\n",
        "  def volumen(self):\n",
        "    face_area=super().area()\n",
        "    return face_area * 6"
      ],
      "metadata": {
        "id": "KA7lWhhv_2l4"
      },
      "execution_count": 21,
      "outputs": []
    },
    {
      "cell_type": "code",
      "source": [
        "rectangulo = Rectangulo(2,5)\n",
        "cuadrado = Cuadrado(2)\n",
        "cubo = Cubo(3)"
      ],
      "metadata": {
        "id": "fKCLAFLFAdu-"
      },
      "execution_count": 27,
      "outputs": []
    },
    {
      "cell_type": "code",
      "source": [
        "rectangulo.area()"
      ],
      "metadata": {
        "id": "khc6V0T5AlRo",
        "outputId": "4ec111fb-79a5-4c28-e30b-bb081aef5c39",
        "colab": {
          "base_uri": "https://localhost:8080/"
        }
      },
      "execution_count": 23,
      "outputs": [
        {
          "output_type": "execute_result",
          "data": {
            "text/plain": [
              "10"
            ]
          },
          "metadata": {},
          "execution_count": 23
        }
      ]
    },
    {
      "cell_type": "code",
      "source": [
        "cuadrado.area()"
      ],
      "metadata": {
        "id": "2lmckuXRAxdN",
        "outputId": "ee43ea3a-7676-4c84-9b4d-370c6d2e429b",
        "colab": {
          "base_uri": "https://localhost:8080/"
        }
      },
      "execution_count": 26,
      "outputs": [
        {
          "output_type": "execute_result",
          "data": {
            "text/plain": [
              "4"
            ]
          },
          "metadata": {},
          "execution_count": 26
        }
      ]
    },
    {
      "cell_type": "code",
      "source": [
        "cubo.volumen()"
      ],
      "metadata": {
        "id": "tqZjWdS0A53F",
        "outputId": "acecb9e8-afbe-4f0e-e1ad-b8fb3def7655",
        "colab": {
          "base_uri": "https://localhost:8080/"
        }
      },
      "execution_count": 28,
      "outputs": [
        {
          "output_type": "execute_result",
          "data": {
            "text/plain": [
              "54"
            ]
          },
          "metadata": {},
          "execution_count": 28
        }
      ]
    }
  ],
  "metadata": {
    "kernelspec": {
      "display_name": "conda_python3",
      "language": "python",
      "name": "conda_python3"
    },
    "language_info": {
      "codemirror_mode": {
        "name": "ipython",
        "version": 3
      },
      "file_extension": ".py",
      "mimetype": "text/x-python",
      "name": "python",
      "nbconvert_exporter": "python",
      "pygments_lexer": "ipython3",
      "version": "3.6.10"
    },
    "colab": {
      "provenance": []
    }
  },
  "nbformat": 4,
  "nbformat_minor": 0
}