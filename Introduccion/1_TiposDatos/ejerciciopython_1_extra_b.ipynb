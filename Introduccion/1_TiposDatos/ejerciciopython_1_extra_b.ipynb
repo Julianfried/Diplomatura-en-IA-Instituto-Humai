{
  "cells": [
    {
      "cell_type": "markdown",
      "metadata": {
        "id": "view-in-github",
        "colab_type": "text"
      },
      "source": [
        "<a href=\"https://colab.research.google.com/github/Julianfried/Diplomatura-en-IA-Instituto-Humai/blob/main/python_1_extra_b.ipynb\" target=\"_parent\"><img src=\"https://colab.research.google.com/assets/colab-badge.svg\" alt=\"Open In Colab\"/></a>"
      ]
    },
    {
      "cell_type": "markdown",
      "metadata": {
        "id": "piz3KPwWyDPJ"
      },
      "source": [
        "# Python I: Ejercicios Extra\n",
        "\n",
        "Pasando pseudocódigo a Python, y aplicando métodos de diccionarios y strings para resolver un problema de datos.\n",
        "\n"
      ]
    },
    {
      "cell_type": "code",
      "source": [
        "# Tenemos un tema de interes, un mail y un nombre y apellido\n",
        "\n",
        "data = [{'tema': 'Python', \n",
        "         'Mail':'mail@gmail.com', \n",
        "         'Nombre': 'Matias Juarez'},\n",
        "        {'tema': 'Moda', \n",
        "         'Mail':'moda@gmail.com', \n",
        "         'Nombre': 'Perez, Juan'},\n",
        "        {'tema': 'Psico', \n",
        "         'Mail':'psico@gmail.com', \n",
        "         'Nombre': 'López, María'},\n",
        "        {'tema': 'Ecología', \n",
        "         'Mail':'maria123@humai.com', \n",
        "         'Nombre': 'María'},\n",
        "        {'tema': 'Ecología', \n",
        "         'Mail':'juana123@humai.com', \n",
        "         'Nombre': 'Juana Arcos'},\n",
        "        {'tema': 'Python', \n",
        "         'Mail':'robertocarlos@hotmail.com', \n",
        "         'Nombre': 'Roberto Carlos'},\n",
        "        {'tema': 'Python', \n",
        "         'Mail':'robertocarlos@hotmail.com', \n",
        "         'Nombre': 'Roberto Carlos'},\n",
        "        {'tema': 'Moda', \n",
        "         'Mail':'lauraperez@hotmail.com', \n",
        "         'Nombre': 'Laura Perez'},\n",
        "        {'tema': 'Deporte', \n",
        "         'Mail':'raulfernandez@hotmail.com', \n",
        "         'Nombre': 'Raúl Fernandez'},\n",
        "        {'tema': 'Deporte', \n",
        "         'Mail':'martinfusco@humai.com', \n",
        "         'Nombre': 'Martín Fusco'},\n",
        "        {'tema': 'Psico', \n",
        "         'Mail':'lucaspeña@humai.com', \n",
        "         'Nombre': 'Lucas Peña'},\n",
        "        {'tema': 'Python', \n",
        "         'Mail':'hugogryn@gmail.com', \n",
        "         'Nombre': 'Gryn, Hugo'},\n",
        "        {'tema': 'Neurociencias', \n",
        "         'Mail':'martaperez@favaloro.com', \n",
        "         'Nombre': 'Marta Perez'},\n",
        "        {'tema': 'Neurociencias', \n",
        "         'Mail':'lucianacher@gmail.com', \n",
        "         'Nombre': 'Luciana Cher'},\n",
        "        {'tema': 'Python', \n",
        "         'Mail':'hectortito123@favaloro.com', \n",
        "         'Nombre': 'Hector Tito'},\n",
        "        {'tema': 'Moda', \n",
        "         'Mail':'juli@hotmail.com', \n",
        "         'Nombre': 'Juli'}]"
      ],
      "metadata": {
        "id": "dbtJuTREzkcO"
      },
      "execution_count": 33,
      "outputs": []
    },
    {
      "cell_type": "markdown",
      "metadata": {
        "id": "cK4vLHaehXoe"
      },
      "source": [
        "### Ejercicio:\n",
        "- ¿Qué estructura de datos es?\n",
        "- Los nombres donde aparece el apellido primero, darlos vuelta a la forma \"Nombre Apellido\"\n"
      ]
    },
    {
      "cell_type": "code",
      "source": [
        "import gspread\n",
        "\n",
        "# Colab\n",
        "from google.colab import auth\n",
        "from oauth2client.client import GoogleCredentials\n",
        "auth.authenticate_user()\n",
        "gc = gspread.authorize(GoogleCredentials.get_application_default())\n",
        "sheet_name = 'Alumnos'\n",
        "sh = gc.open(sheet_name)\n",
        "data = sh.sheet1.get_all_records()"
      ],
      "metadata": {
        "id": "DFSdFLxzKHPv",
        "outputId": "cf655ac9-504d-47e2-c3cb-da0c0d36a0ea",
        "colab": {
          "base_uri": "https://localhost:8080/",
          "height": 381
        }
      },
      "execution_count": 3,
      "outputs": [
        {
          "output_type": "error",
          "ename": "TypeError",
          "evalue": "ignored",
          "traceback": [
            "\u001b[0;31m---------------------------------------------------------------------------\u001b[0m",
            "\u001b[0;31mTypeError\u001b[0m                                 Traceback (most recent call last)",
            "\u001b[0;32m<ipython-input-3-ce2b554c5db5>\u001b[0m in \u001b[0;36m<cell line: 7>\u001b[0;34m()\u001b[0m\n\u001b[1;32m      5\u001b[0m \u001b[0;32mfrom\u001b[0m \u001b[0moauth2client\u001b[0m\u001b[0;34m.\u001b[0m\u001b[0mclient\u001b[0m \u001b[0;32mimport\u001b[0m \u001b[0mGoogleCredentials\u001b[0m\u001b[0;34m\u001b[0m\u001b[0;34m\u001b[0m\u001b[0m\n\u001b[1;32m      6\u001b[0m \u001b[0mauth\u001b[0m\u001b[0;34m.\u001b[0m\u001b[0mauthenticate_user\u001b[0m\u001b[0;34m(\u001b[0m\u001b[0;34m)\u001b[0m\u001b[0;34m\u001b[0m\u001b[0;34m\u001b[0m\u001b[0m\n\u001b[0;32m----> 7\u001b[0;31m \u001b[0mgc\u001b[0m \u001b[0;34m=\u001b[0m \u001b[0mgspread\u001b[0m\u001b[0;34m.\u001b[0m\u001b[0mauthorize\u001b[0m\u001b[0;34m(\u001b[0m\u001b[0mGoogleCredentials\u001b[0m\u001b[0;34m.\u001b[0m\u001b[0mget_application_default\u001b[0m\u001b[0;34m(\u001b[0m\u001b[0;34m)\u001b[0m\u001b[0;34m)\u001b[0m\u001b[0;34m\u001b[0m\u001b[0;34m\u001b[0m\u001b[0m\n\u001b[0m\u001b[1;32m      8\u001b[0m \u001b[0msheet_name\u001b[0m \u001b[0;34m=\u001b[0m \u001b[0;34m'Alumnos'\u001b[0m\u001b[0;34m\u001b[0m\u001b[0;34m\u001b[0m\u001b[0m\n\u001b[1;32m      9\u001b[0m \u001b[0msh\u001b[0m \u001b[0;34m=\u001b[0m \u001b[0mgc\u001b[0m\u001b[0;34m.\u001b[0m\u001b[0mopen\u001b[0m\u001b[0;34m(\u001b[0m\u001b[0msheet_name\u001b[0m\u001b[0;34m)\u001b[0m\u001b[0;34m\u001b[0m\u001b[0;34m\u001b[0m\u001b[0m\n",
            "\u001b[0;32m/usr/local/lib/python3.9/dist-packages/gspread/__init__.py\u001b[0m in \u001b[0;36mauthorize\u001b[0;34m(credentials, client_class)\u001b[0m\n\u001b[1;32m     36\u001b[0m     \"\"\"\n\u001b[1;32m     37\u001b[0m \u001b[0;34m\u001b[0m\u001b[0m\n\u001b[0;32m---> 38\u001b[0;31m     \u001b[0mclient\u001b[0m \u001b[0;34m=\u001b[0m \u001b[0mclient_class\u001b[0m\u001b[0;34m(\u001b[0m\u001b[0mauth\u001b[0m\u001b[0;34m=\u001b[0m\u001b[0mcredentials\u001b[0m\u001b[0;34m)\u001b[0m\u001b[0;34m\u001b[0m\u001b[0;34m\u001b[0m\u001b[0m\n\u001b[0m\u001b[1;32m     39\u001b[0m     \u001b[0;32mreturn\u001b[0m \u001b[0mclient\u001b[0m\u001b[0;34m\u001b[0m\u001b[0;34m\u001b[0m\u001b[0m\n",
            "\u001b[0;32m/usr/local/lib/python3.9/dist-packages/gspread/client.py\u001b[0m in \u001b[0;36m__init__\u001b[0;34m(self, auth, session)\u001b[0m\n\u001b[1;32m     37\u001b[0m     \"\"\"\n\u001b[1;32m     38\u001b[0m     \u001b[0;32mdef\u001b[0m \u001b[0m__init__\u001b[0m\u001b[0;34m(\u001b[0m\u001b[0mself\u001b[0m\u001b[0;34m,\u001b[0m \u001b[0mauth\u001b[0m\u001b[0;34m,\u001b[0m \u001b[0msession\u001b[0m\u001b[0;34m=\u001b[0m\u001b[0;32mNone\u001b[0m\u001b[0;34m)\u001b[0m\u001b[0;34m:\u001b[0m\u001b[0;34m\u001b[0m\u001b[0;34m\u001b[0m\u001b[0m\n\u001b[0;32m---> 39\u001b[0;31m         \u001b[0mself\u001b[0m\u001b[0;34m.\u001b[0m\u001b[0mauth\u001b[0m \u001b[0;34m=\u001b[0m \u001b[0mconvert_credentials\u001b[0m\u001b[0;34m(\u001b[0m\u001b[0mauth\u001b[0m\u001b[0;34m)\u001b[0m\u001b[0;34m\u001b[0m\u001b[0;34m\u001b[0m\u001b[0m\n\u001b[0m\u001b[1;32m     40\u001b[0m         \u001b[0mself\u001b[0m\u001b[0;34m.\u001b[0m\u001b[0msession\u001b[0m \u001b[0;34m=\u001b[0m \u001b[0msession\u001b[0m \u001b[0;32mor\u001b[0m \u001b[0mAuthorizedSession\u001b[0m\u001b[0;34m(\u001b[0m\u001b[0mself\u001b[0m\u001b[0;34m.\u001b[0m\u001b[0mauth\u001b[0m\u001b[0;34m)\u001b[0m\u001b[0;34m\u001b[0m\u001b[0;34m\u001b[0m\u001b[0m\n\u001b[1;32m     41\u001b[0m \u001b[0;34m\u001b[0m\u001b[0m\n",
            "\u001b[0;32m/usr/local/lib/python3.9/dist-packages/gspread/utils.py\u001b[0m in \u001b[0;36mconvert_credentials\u001b[0;34m(credentials)\u001b[0m\n\u001b[1;32m     58\u001b[0m         \u001b[0;32mreturn\u001b[0m \u001b[0mcredentials\u001b[0m\u001b[0;34m\u001b[0m\u001b[0;34m\u001b[0m\u001b[0m\n\u001b[1;32m     59\u001b[0m \u001b[0;34m\u001b[0m\u001b[0m\n\u001b[0;32m---> 60\u001b[0;31m     raise TypeError(\n\u001b[0m\u001b[1;32m     61\u001b[0m         \u001b[0;34m'Credentials need to be from either oauth2client or from google-auth.'\u001b[0m\u001b[0;34m\u001b[0m\u001b[0;34m\u001b[0m\u001b[0m\n\u001b[1;32m     62\u001b[0m     )\n",
            "\u001b[0;31mTypeError\u001b[0m: Credentials need to be from either oauth2client or from google-auth."
          ]
        }
      ]
    },
    {
      "cell_type": "markdown",
      "metadata": {
        "id": "lVWqep0tibgy"
      },
      "source": [
        "Pseudocódigo:\n",
        "  \n",
        "\n",
        "```\n",
        " para cada elemento:\n",
        "     si el nombre está al revés:\n",
        "        separar el nombre por la coma\n",
        "        invertirlo\n",
        "        unirlo\n",
        "```"
      ]
    },
    {
      "cell_type": "code",
      "execution_count": 37,
      "metadata": {
        "id": "l1ie6jU0ap0F",
        "outputId": "e2b0f162-0d22-4877-94ba-5dbb09de563c",
        "colab": {
          "base_uri": "https://localhost:8080/",
          "height": 200
        }
      },
      "outputs": [
        {
          "output_type": "error",
          "ename": "TypeError",
          "evalue": "ignored",
          "traceback": [
            "\u001b[0;31m---------------------------------------------------------------------------\u001b[0m",
            "\u001b[0;31mTypeError\u001b[0m                                 Traceback (most recent call last)",
            "\u001b[0;32m<ipython-input-37-c50079c1c062>\u001b[0m in \u001b[0;36m<cell line: 6>\u001b[0;34m()\u001b[0m\n\u001b[1;32m      4\u001b[0m     \u001b[0mapellido\u001b[0m \u001b[0;34m=\u001b[0m \u001b[0malumno\u001b[0m\u001b[0;34m[\u001b[0m\u001b[0;34m'Nombre'\u001b[0m\u001b[0;34m]\u001b[0m\u001b[0;34m.\u001b[0m\u001b[0msplit\u001b[0m\u001b[0;34m(\u001b[0m\u001b[0;34m','\u001b[0m\u001b[0;34m)\u001b[0m\u001b[0;34m[\u001b[0m\u001b[0;36m0\u001b[0m\u001b[0;34m]\u001b[0m\u001b[0;34m\u001b[0m\u001b[0;34m\u001b[0m\u001b[0m\n\u001b[1;32m      5\u001b[0m     \u001b[0mdata\u001b[0m\u001b[0;34m[\u001b[0m\u001b[0mi\u001b[0m\u001b[0;34m]\u001b[0m\u001b[0;34m[\u001b[0m\u001b[0;34m'Nombre'\u001b[0m\u001b[0;34m]\u001b[0m \u001b[0;34m=\u001b[0m \u001b[0mnombre\u001b[0m \u001b[0;34m+\u001b[0m \u001b[0;34m' '\u001b[0m \u001b[0;34m+\u001b[0m \u001b[0mapellido\u001b[0m\u001b[0;34m\u001b[0m\u001b[0;34m\u001b[0m\u001b[0m\n\u001b[0;32m----> 6\u001b[0;31m \u001b[0mprint\u001b[0m\u001b[0;34m(\u001b[0m\u001b[0mdata\u001b[0m\u001b[0;34m)\u001b[0m\u001b[0;34m\u001b[0m\u001b[0;34m\u001b[0m\u001b[0m\n\u001b[0m",
            "\u001b[0;31mTypeError\u001b[0m: 'list' object is not callable"
          ]
        }
      ],
      "source": [
        "for i, alumno in enumerate(data):\n",
        "  if ',' in alumno['Nombre']:\n",
        "    nombre = alumno['Nombre'].split(', ')[-1]\n",
        "    apellido = alumno['Nombre'].split(',')[0]\n",
        "    data[i]['Nombre'] = nombre + ' ' + apellido\n",
        "print(data)\n"
      ]
    },
    {
      "cell_type": "markdown",
      "metadata": {
        "id": "8Cqv1fENivPC"
      },
      "source": [
        "### Ejercicio:\n",
        "\n",
        "Definir la llave \"Primer nombre\" con el primer nombre en cada entrada\n",
        "\n",
        "Pseudocódigo\n",
        "\n",
        "```\n",
        "para cada elemento:\n",
        "   separar el string\n",
        "   guardar la primer palabra en el dict con el key \"primer nombre\"\n",
        "```\n",
        "\n"
      ]
    },
    {
      "cell_type": "code",
      "execution_count": 35,
      "metadata": {
        "id": "cCTWIV1j8Z9j",
        "outputId": "87a3ad30-6ca3-436e-ed69-1671a482aba1",
        "colab": {
          "base_uri": "https://localhost:8080/",
          "height": 200
        }
      },
      "outputs": [
        {
          "output_type": "error",
          "ename": "TypeError",
          "evalue": "ignored",
          "traceback": [
            "\u001b[0;31m---------------------------------------------------------------------------\u001b[0m",
            "\u001b[0;31mTypeError\u001b[0m                                 Traceback (most recent call last)",
            "\u001b[0;32m<ipython-input-35-0441b1eb5aba>\u001b[0m in \u001b[0;36m<cell line: 4>\u001b[0;34m()\u001b[0m\n\u001b[1;32m      2\u001b[0m   \u001b[0mprimer_nombre\u001b[0m \u001b[0;34m=\u001b[0m \u001b[0malumno\u001b[0m\u001b[0;34m[\u001b[0m\u001b[0;34m'Nombre'\u001b[0m\u001b[0;34m]\u001b[0m\u001b[0;34m.\u001b[0m\u001b[0msplit\u001b[0m\u001b[0;34m(\u001b[0m\u001b[0;34m' '\u001b[0m\u001b[0;34m)\u001b[0m\u001b[0;34m[\u001b[0m\u001b[0;36m0\u001b[0m\u001b[0;34m]\u001b[0m\u001b[0;34m\u001b[0m\u001b[0;34m\u001b[0m\u001b[0m\n\u001b[1;32m      3\u001b[0m   \u001b[0mdata\u001b[0m\u001b[0;34m[\u001b[0m\u001b[0mi\u001b[0m\u001b[0;34m]\u001b[0m\u001b[0;34m[\u001b[0m\u001b[0;34m'primer nombre'\u001b[0m\u001b[0;34m]\u001b[0m \u001b[0;34m=\u001b[0m \u001b[0mprimer_nombre\u001b[0m\u001b[0;34m\u001b[0m\u001b[0;34m\u001b[0m\u001b[0m\n\u001b[0;32m----> 4\u001b[0;31m \u001b[0mprint\u001b[0m\u001b[0;34m(\u001b[0m\u001b[0mdata\u001b[0m\u001b[0;34m)\u001b[0m\u001b[0;34m\u001b[0m\u001b[0;34m\u001b[0m\u001b[0m\n\u001b[0m",
            "\u001b[0;31mTypeError\u001b[0m: 'list' object is not callable"
          ]
        }
      ],
      "source": [
        "for i,alumno in enumerate(data):\n",
        "  primer_nombre = alumno['Nombre'].split(' ')[0]\n",
        "  data[i]['primer nombre'] = primer_nombre\n",
        "print(data)\n"
      ]
    },
    {
      "cell_type": "markdown",
      "metadata": {
        "id": "Qnk0g3ptjsTJ"
      },
      "source": [
        "### Ejercicio:\n",
        "\n",
        "Guardar una lista con los dominios únicos de los mails\n",
        "\n",
        "Pseudocódigo\n",
        "\n",
        "```\n",
        "definir lista vacia\n",
        "para cada elemento:\n",
        "   tomar el mail\n",
        "   extraer el dominio\n",
        "   si no está en la lista\n",
        "      guardarlo\n",
        "```\n",
        "\n"
      ]
    },
    {
      "cell_type": "code",
      "source": [
        "lista_mails = []\n",
        "for alumno in data:\n",
        "  mail = alumno['Mail']\n",
        "  if mail not in lista_mails:\n",
        "    lista_mails.append(mail)\n",
        "list(lista_mails)"
      ],
      "metadata": {
        "id": "I8Vo2bXizAM-",
        "outputId": "6e65b7ea-cf7a-4425-e66a-2c3d1831711d",
        "colab": {
          "base_uri": "https://localhost:8080/"
        }
      },
      "execution_count": 25,
      "outputs": [
        {
          "output_type": "execute_result",
          "data": {
            "text/plain": [
              "['mail@gmail.com',\n",
              " 'moda@gmail.com',\n",
              " 'psico@gmail.com',\n",
              " 'maria123@humai.com',\n",
              " 'juana123@humai.com',\n",
              " 'robertocarlos@hotmail.com',\n",
              " 'lauraperez@hotmail.com',\n",
              " 'raulfernandez@hotmail.com',\n",
              " 'martinfusco@humai.com',\n",
              " 'lucaspeña@humai.com',\n",
              " 'hugogryn@gmail.com',\n",
              " 'martaperez@favaloro.com',\n",
              " 'lucianacher@gmail.com',\n",
              " 'hectortito123@favaloro.com',\n",
              " 'jclopez@humai.com']"
            ]
          },
          "metadata": {},
          "execution_count": 25
        }
      ]
    },
    {
      "cell_type": "markdown",
      "metadata": {
        "id": "iU-98_K79ast"
      },
      "source": [
        "### Bonus:\n",
        "\n",
        "- En vez de una lista, hacer un diccionario con la frecuencia de cada dominio"
      ]
    },
    {
      "cell_type": "code",
      "execution_count": 28,
      "metadata": {
        "id": "wka6vY3b9iK5",
        "outputId": "184bd121-1449-42e4-e205-aa3e87aca870",
        "colab": {
          "base_uri": "https://localhost:8080/"
        }
      },
      "outputs": [
        {
          "output_type": "execute_result",
          "data": {
            "text/plain": [
              "{'mail@gmail.com': 1,\n",
              " 'moda@gmail.com': 1,\n",
              " 'psico@gmail.com': 1,\n",
              " 'maria123@humai.com': 1,\n",
              " 'juana123@humai.com': 1,\n",
              " 'robertocarlos@hotmail.com': 2,\n",
              " 'lauraperez@hotmail.com': 1,\n",
              " 'raulfernandez@hotmail.com': 1,\n",
              " 'martinfusco@humai.com': 1,\n",
              " 'lucaspeña@humai.com': 1,\n",
              " 'hugogryn@gmail.com': 1,\n",
              " 'martaperez@favaloro.com': 1,\n",
              " 'lucianacher@gmail.com': 1,\n",
              " 'hectortito123@favaloro.com': 1,\n",
              " 'jclopez@humai.com': 1}"
            ]
          },
          "metadata": {},
          "execution_count": 28
        }
      ],
      "source": [
        "lista_mails = {}\n",
        "\n",
        "for i,alumno in enumerate(data):\n",
        "  mail = alumno['Mail']\n",
        "\n",
        "  if mail not in lista_mails.keys():\n",
        "    lista_mails[mail] = 1\n",
        "  else:\n",
        "    lista_mails[mail] += 1\n",
        "dict(lista_mails)"
      ]
    },
    {
      "cell_type": "markdown",
      "metadata": {
        "id": "cmjdjOAR732d"
      },
      "source": [
        "### Ejercicio\n",
        "\n",
        "Enviando mail\n",
        "\n",
        "- Hacer un búcle que rellene la plantilla para cada diccionario.\n",
        "- Definir un string como plantilla para rellenar con \"Primer Nombre\" y \"Tema\"\n",
        "- Si el mail es el tuyo... enviar el mail con la plantilla. Si no, hacer print\n",
        "- Mostrar \"Enviando mail a...\" con el mail a quien se envió\n",
        "\n",
        "Tip: usar `.format(variable=valor)` para dar formato al string."
      ]
    },
    {
      "cell_type": "code",
      "source": [
        "def mandar_mail(texto, destinatario):\n",
        "  \"\"\"Funcion de juguete que envia un mail\"\"\"\n",
        "  print(f\"Enviando {texto} a {destinatario}\")"
      ],
      "metadata": {
        "id": "g_pAJbyD0Fgy"
      },
      "execution_count": 29,
      "outputs": []
    },
    {
      "cell_type": "code",
      "execution_count": 39,
      "metadata": {
        "id": "RAZk9N258M3d",
        "outputId": "c31d2924-90cc-4d61-8a66-502d90381eb1",
        "colab": {
          "base_uri": "https://localhost:8080/",
          "height": 218
        }
      },
      "outputs": [
        {
          "output_type": "error",
          "ename": "TypeError",
          "evalue": "ignored",
          "traceback": [
            "\u001b[0;31m---------------------------------------------------------------------------\u001b[0m",
            "\u001b[0;31mTypeError\u001b[0m                                 Traceback (most recent call last)",
            "\u001b[0;32m<ipython-input-39-c1439527d8b8>\u001b[0m in \u001b[0;36m<cell line: 3>\u001b[0;34m()\u001b[0m\n\u001b[1;32m     10\u001b[0m     \u001b[0mmandar_mail\u001b[0m\u001b[0;34m(\u001b[0m\u001b[0mplantilla\u001b[0m\u001b[0;34m,\u001b[0m\u001b[0mmail\u001b[0m\u001b[0;34m)\u001b[0m\u001b[0;34m\u001b[0m\u001b[0;34m\u001b[0m\u001b[0m\n\u001b[1;32m     11\u001b[0m   \u001b[0;32melse\u001b[0m\u001b[0;34m:\u001b[0m\u001b[0;34m\u001b[0m\u001b[0;34m\u001b[0m\u001b[0m\n\u001b[0;32m---> 12\u001b[0;31m     \u001b[0mprint\u001b[0m\u001b[0;34m(\u001b[0m\u001b[0;34m'No es mio, continuando busqueda'\u001b[0m\u001b[0;34m)\u001b[0m\u001b[0;34m\u001b[0m\u001b[0;34m\u001b[0m\u001b[0m\n\u001b[0m\u001b[1;32m     13\u001b[0m \u001b[0;31m# Completar\u001b[0m\u001b[0;34m\u001b[0m\u001b[0;34m\u001b[0m\u001b[0m\n",
            "\u001b[0;31mTypeError\u001b[0m: 'list' object is not callable"
          ]
        }
      ],
      "source": [
        "mi_mail = 'juli@hotmail.com'\n",
        "\n",
        "for i,alumno in enumerate(data):\n",
        "  nombre = alumno['primer nombre']\n",
        "  mail = alumno['Mail']\n",
        "  tema = alumno['tema']\n",
        "  plantilla = f'¡Hola! {nombre}. Tu tema es {tema}'\n",
        "\n",
        "  if mail==mi_mail:\n",
        "    mandar_mail(plantilla,mail)\n",
        "  else:\n",
        "    print('No es mio, continuando busqueda')\n",
        "# Completar"
      ]
    },
    {
      "cell_type": "markdown",
      "metadata": {
        "id": "B9th96soHwhR"
      },
      "source": [
        "### PyTrends\n",
        "\n",
        "- Usar la siguiente función para conseguir las  tendencias de Google para el tema de cada persona.\n",
        "- \"Enviar mail\" con el nombre, tema y los resultados para cada persona. "
      ]
    },
    {
      "cell_type": "code",
      "execution_count": null,
      "metadata": {
        "id": "0SEb9VCTG87c"
      },
      "outputs": [],
      "source": [
        "# instala librería\n",
        "!pip install pytrends"
      ]
    },
    {
      "cell_type": "code",
      "execution_count": null,
      "metadata": {
        "id": "r19MlOhCG9TZ"
      },
      "outputs": [],
      "source": [
        "import pandas as pd                        \n",
        "from pytrends.request import TrendReq\n",
        "\n",
        "def get_trends(query):\n",
        "    pytrend = TrendReq()\n",
        "    pytrend.build_payload(kw_list=[query])\n",
        "    df = pytrend.interest_by_region()\n",
        "    return df.sort_values(query, ascending=False)[query].to_dict()"
      ]
    },
    {
      "cell_type": "code",
      "execution_count": null,
      "metadata": {
        "id": "ZA9WNhmmHPE5"
      },
      "outputs": [],
      "source": [
        "query = 'Python'\n",
        "tendencias = get_trends(query)"
      ]
    },
    {
      "cell_type": "code",
      "execution_count": null,
      "metadata": {
        "id": "y-zo9gdyI7Rr",
        "colab": {
          "base_uri": "https://localhost:8080/"
        },
        "outputId": "e992782f-83fc-474b-8f68-166b3035d09d"
      },
      "outputs": [
        {
          "output_type": "execute_result",
          "data": {
            "text/plain": [
              "2"
            ]
          },
          "metadata": {},
          "execution_count": 16
        }
      ],
      "source": [
        "tendencias['Argentina']"
      ]
    },
    {
      "cell_type": "code",
      "source": [],
      "metadata": {
        "id": "SCEwK5LT0d9g"
      },
      "execution_count": null,
      "outputs": []
    },
    {
      "cell_type": "markdown",
      "source": [
        "## Ejercicio Discord\n",
        "\n",
        "- Descargar mensajes de este link: https://drive.google.com/file/d/1n1SkPbZdZ8SkOVCRT6Aogr4vdmu_kAyy/view?usp=sharing \n",
        "- Leer los mensajes de `mensajes_python.txt`\n",
        "- Procesarlos para tenerlos en forma de lista\n",
        "- Sacar promedio de largo de mensajes\n",
        "- Contar cuantos mensajes mencionan la palabra \"lista\"\n",
        "- Armar un diccionario que cuenta cuantas veces mencionan cada una de las siguientes palabras:\n",
        "\n",
        "`diccionario`, `colab`, `zoom`, `ejercicio`, y otras que se te ocurran! :)"
      ],
      "metadata": {
        "id": "Xs3Y9AQk3yz5"
      }
    },
    {
      "cell_type": "code",
      "source": [],
      "metadata": {
        "id": "KaS515874U8b"
      },
      "execution_count": null,
      "outputs": []
    }
  ],
  "metadata": {
    "kernelspec": {
      "display_name": "Python 3",
      "language": "python",
      "name": "python3"
    },
    "language_info": {
      "codemirror_mode": {
        "name": "ipython",
        "version": 3
      },
      "file_extension": ".py",
      "mimetype": "text/x-python",
      "name": "python",
      "nbconvert_exporter": "python",
      "pygments_lexer": "ipython3",
      "version": "3.8.8"
    },
    "colab": {
      "provenance": [],
      "include_colab_link": true
    }
  },
  "nbformat": 4,
  "nbformat_minor": 0
}
