{
  "nbformat": 4,
  "nbformat_minor": 0,
  "metadata": {
    "colab": {
      "provenance": [],
      "include_colab_link": true
    },
    "kernelspec": {
      "name": "python3",
      "display_name": "Python 3"
    },
    "language_info": {
      "name": "python"
    }
  },
  "cells": [
    {
      "cell_type": "markdown",
      "metadata": {
        "id": "view-in-github",
        "colab_type": "text"
      },
      "source": [
        "<a href=\"https://colab.research.google.com/github/Julianfried/Diplomatura-en-IA-Instituto-Humai/blob/main/Clase_2_Ejercicios_extra.ipynb\" target=\"_parent\"><img src=\"https://colab.research.google.com/assets/colab-badge.svg\" alt=\"Open In Colab\"/></a>"
      ]
    },
    {
      "cell_type": "markdown",
      "source": [
        "## Ejercicios Extra\n",
        "\n",
        "- Tuplas\n",
        "- List Comprehension\n",
        "- Funciones\n",
        "\n",
        "Para estos ejercicios vamos a utilizar una parte de los datos de los barrios de la [ciudad de buenos aires](https://data.buenosaires.gob.ar/dataset/barrios)."
      ],
      "metadata": {
        "id": "b9e8WjpOYkyu"
      }
    },
    {
      "cell_type": "markdown",
      "source": [
        "### 1) Crear una funcion que al recibir una lista de cosas y el nombre de una cosa, cuente cuantas veces aparece la cosa en la lista.\n",
        "\n",
        "Para esto crearas dos funciones:\n",
        "\n",
        "- una usando parametros con valores por defecto\n",
        "- y la otra usando algun parametro especial (los que usan asterisco)\n",
        "\n",
        "ambas funciones deberan devolver el conteo e imprimir cuantas veces aparece el objeto y mostrar el nombre del objeto"
      ],
      "metadata": {
        "id": "jmyALeJKYu3s"
      }
    },
    {
      "cell_type": "code",
      "source": [
        "lista_cosas = ['teclado' , 'mouse' , 'computadora', 'telefono', 'teclado']"
      ],
      "metadata": {
        "id": "oOQMon0P5Xrz"
      },
      "execution_count": 14,
      "outputs": []
    },
    {
      "cell_type": "code",
      "source": [
        "#usando valores por defecto\n",
        "\n",
        "\n",
        "def cuenta_cosas(lista_cosas=None):\n",
        "  if lista_cosas == None:\n",
        "    lista_cosas = []\n",
        "\n",
        "  diccionario_cosas = {}\n",
        "\n",
        "  for cosa in lista_cosas:\n",
        "    if cosa not in diccionario_cosas.keys():\n",
        "      diccionario_cosas[cosa] = 1\n",
        "\n",
        "    else:\n",
        "      diccionario_cosas[cosa] += 1\n",
        "\n",
        "  for key,value in diccionario_cosas.items():\n",
        "    print (f'El objeto {key} aparece {value} veces')\n",
        "\n",
        "  pass\n",
        "\n"
      ],
      "metadata": {
        "id": "j8X_yJEVYvSV"
      },
      "execution_count": 25,
      "outputs": []
    },
    {
      "cell_type": "code",
      "source": [
        "cuenta_cosas(lista_cosas)"
      ],
      "metadata": {
        "colab": {
          "base_uri": "https://localhost:8080/"
        },
        "id": "Hrvvk_lC5IXb",
        "outputId": "7f525ee6-6455-4944-bedc-86d62f5aa44e"
      },
      "execution_count": 26,
      "outputs": [
        {
          "output_type": "stream",
          "name": "stdout",
          "text": [
            "El objeto teclado aparece 2 veces\n",
            "El objeto mouse aparece 1 veces\n",
            "El objeto computadora aparece 1 veces\n",
            "El objeto telefono aparece 1 veces\n"
          ]
        }
      ]
    },
    {
      "cell_type": "code",
      "source": [
        "def cuenta_cosas_2(*args):\n",
        "  lista_cosas = [*args][0]\n",
        "\n",
        "  diccionario_cosas = {}\n",
        "\n",
        "  for cosa in lista_cosas:\n",
        "    if cosa not in diccionario_cosas.keys():\n",
        "      diccionario_cosas[cosa] = 1\n",
        "\n",
        "    else:\n",
        "      diccionario_cosas[cosa] += 1\n",
        "\n",
        "  for key,value in diccionario_cosas.items():\n",
        "    print (f'El objeto {key} aparece {value} veces')\n",
        "\n",
        "  pass\n"
      ],
      "metadata": {
        "id": "vRdEcovL6hG1"
      },
      "execution_count": 27,
      "outputs": []
    },
    {
      "cell_type": "code",
      "source": [
        "cuenta_cosas_2(lista_cosas)"
      ],
      "metadata": {
        "colab": {
          "base_uri": "https://localhost:8080/"
        },
        "id": "5zAtq2Z07DwT",
        "outputId": "1a71101a-e2c0-4a56-b5eb-ed3f94e04bb0"
      },
      "execution_count": 29,
      "outputs": [
        {
          "output_type": "stream",
          "name": "stdout",
          "text": [
            "El objeto teclado aparece 2 veces\n",
            "El objeto mouse aparece 1 veces\n",
            "El objeto computadora aparece 1 veces\n",
            "El objeto telefono aparece 1 veces\n"
          ]
        }
      ]
    },
    {
      "cell_type": "markdown",
      "source": [
        "Los elementros de cada tupla representan:\n",
        "\n",
        "(nombre del barrio, perímetro, población)"
      ],
      "metadata": {
        "id": "4ISPfaJydCRl"
      }
    },
    {
      "cell_type": "code",
      "execution_count": 31,
      "metadata": {
        "id": "Rr52zNdPYgzF"
      },
      "outputs": [],
      "source": [
        "data = [\n",
        "    ('CHACARITA',         7724.9,   27761), \n",
        "    ('PATERNAL',          7087.5,   19717),\n",
        "    ('VILLA CRESPO',      8131.9,   81959),\n",
        "    ('VILLA DEL PARQUE',  7705.4,   55273),\n",
        "    ('ALMAGRO',           8537.9,   131699), \n",
        "    ('CABALLITO',         10991. ,  176076),\n",
        "    ('VILLA SANTA RITA',  5757.8,   33325),\n",
        "    ('MONTE CASTRO',      7361.0 ,  33623),\n",
        "    ('VILLA REAL',        5071.0 ,  13419), \n",
        "    ('FLORES',            15772.4,  164310),\n",
        "    ('FLORESTA',          7519.7,   37575),\n",
        "    ('CONSTITUCION',      6326.8,   44107),\n",
        "    ('SAN CRISTOBAL',     5987.2,   48611), \n",
        "    ('BOEDO',             6602.5,   47306),\n",
        "    ('VELEZ SARSFIELD',   7045.6,   35081),\n",
        "    ('VILLA LURO',        8652.9,   32502),\n",
        "    ('PARQUE PATRICIOS',  7878.4,   40985),\n",
        "    ('MATADEROS',         11124.6,  64436),\n",
        "    ('VILLA LUGANO',      15057.5,  126374),\n",
        "    ('SAN TELMO',         5178.0 ,  20453)\n",
        "  ]"
      ]
    },
    {
      "cell_type": "markdown",
      "source": [
        "### 2.1) Crear una lista con los nombres de todos los barrios en la lista de tuplas.\n",
        "Opciones:\n",
        "- Crear una función que recorra la lista\n",
        "- Usar List Comprehension\n"
      ],
      "metadata": {
        "id": "bf5wzsoHYv2F"
      }
    },
    {
      "cell_type": "code",
      "source": [
        "barrios = [tupla[0] for tupla in data ]\n",
        "print(barrios)"
      ],
      "metadata": {
        "id": "f8VopJmPYx1d",
        "colab": {
          "base_uri": "https://localhost:8080/"
        },
        "outputId": "9f32038b-2f21-4274-c48b-41a3e3272d80"
      },
      "execution_count": 33,
      "outputs": [
        {
          "output_type": "stream",
          "name": "stdout",
          "text": [
            "['CHACARITA', 'PATERNAL', 'VILLA CRESPO', 'VILLA DEL PARQUE', 'ALMAGRO', 'CABALLITO', 'VILLA SANTA RITA', 'MONTE CASTRO', 'VILLA REAL', 'FLORES', 'FLORESTA', 'CONSTITUCION', 'SAN CRISTOBAL', 'BOEDO', 'VELEZ SARSFIELD', 'VILLA LURO', 'PARQUE PATRICIOS', 'MATADEROS', 'VILLA LUGANO', 'SAN TELMO']\n"
          ]
        }
      ]
    },
    {
      "cell_type": "markdown",
      "source": [
        "### 2.2) Filtrar utilizando List Comprehension\n",
        "- barrios con un perímetro entre 10.000 y 7.500\n",
        "- barrios con una población mayor a 100.000 "
      ],
      "metadata": {
        "id": "fUI-MmjaYyBU"
      }
    },
    {
      "cell_type": "code",
      "source": [
        "barrios = [tupla[0] for tupla in data if 7500 < tupla[1] <10000 and 100000 < tupla[2]]\n",
        "print(barrios)"
      ],
      "metadata": {
        "id": "oMnbFaCWYzHY",
        "colab": {
          "base_uri": "https://localhost:8080/"
        },
        "outputId": "31a8ebf6-2caf-442a-e76d-7ddbb768f9af"
      },
      "execution_count": 34,
      "outputs": [
        {
          "output_type": "stream",
          "name": "stdout",
          "text": [
            "['ALMAGRO']\n"
          ]
        }
      ]
    },
    {
      "cell_type": "markdown",
      "source": [
        "### 2.3) Crear una lista con diccionarios donde:\n",
        "- La key o clave sea el nombre del barrio\n",
        "- Guarde un diccionario con el perimetro y la población\n",
        "- Formato:\n",
        "\n",
        "barrios_dict = {\n",
        "\n",
        "  'CABALLITO': {'Perimetro': 10991.0, 'Poblacion': 176076}\n",
        "\n",
        "}"
      ],
      "metadata": {
        "id": "M37nCUVMYzUM"
      }
    },
    {
      "cell_type": "code",
      "source": [
        "lista_dict = []\n",
        "for nombre,perimetro,poblacion in data:\n",
        "  un_barrio = {nombre: {'PERIMETRO' : perimetro, 'POBLACION' : poblacion}}\n",
        "  lista_dict.append(un_barrio)\n",
        "print(lista_dict)\n"
      ],
      "metadata": {
        "id": "kEQVnI4v9_8r",
        "colab": {
          "base_uri": "https://localhost:8080/"
        },
        "outputId": "5235cbf5-7505-47db-9a5d-b2e8e50d6f9b"
      },
      "execution_count": 36,
      "outputs": [
        {
          "output_type": "stream",
          "name": "stdout",
          "text": [
            "[{'CHACARITA': {'PERIMETRO': 7724.9, 'POBLACION': 27761}}, {'PATERNAL': {'PERIMETRO': 7087.5, 'POBLACION': 19717}}, {'VILLA CRESPO': {'PERIMETRO': 8131.9, 'POBLACION': 81959}}, {'VILLA DEL PARQUE': {'PERIMETRO': 7705.4, 'POBLACION': 55273}}, {'ALMAGRO': {'PERIMETRO': 8537.9, 'POBLACION': 131699}}, {'CABALLITO': {'PERIMETRO': 10991.0, 'POBLACION': 176076}}, {'VILLA SANTA RITA': {'PERIMETRO': 5757.8, 'POBLACION': 33325}}, {'MONTE CASTRO': {'PERIMETRO': 7361.0, 'POBLACION': 33623}}, {'VILLA REAL': {'PERIMETRO': 5071.0, 'POBLACION': 13419}}, {'FLORES': {'PERIMETRO': 15772.4, 'POBLACION': 164310}}, {'FLORESTA': {'PERIMETRO': 7519.7, 'POBLACION': 37575}}, {'CONSTITUCION': {'PERIMETRO': 6326.8, 'POBLACION': 44107}}, {'SAN CRISTOBAL': {'PERIMETRO': 5987.2, 'POBLACION': 48611}}, {'BOEDO': {'PERIMETRO': 6602.5, 'POBLACION': 47306}}, {'VELEZ SARSFIELD': {'PERIMETRO': 7045.6, 'POBLACION': 35081}}, {'VILLA LURO': {'PERIMETRO': 8652.9, 'POBLACION': 32502}}, {'PARQUE PATRICIOS': {'PERIMETRO': 7878.4, 'POBLACION': 40985}}, {'MATADEROS': {'PERIMETRO': 11124.6, 'POBLACION': 64436}}, {'VILLA LUGANO': {'PERIMETRO': 15057.5, 'POBLACION': 126374}}, {'SAN TELMO': {'PERIMETRO': 5178.0, 'POBLACION': 20453}}]\n"
          ]
        }
      ]
    }
  ]
}