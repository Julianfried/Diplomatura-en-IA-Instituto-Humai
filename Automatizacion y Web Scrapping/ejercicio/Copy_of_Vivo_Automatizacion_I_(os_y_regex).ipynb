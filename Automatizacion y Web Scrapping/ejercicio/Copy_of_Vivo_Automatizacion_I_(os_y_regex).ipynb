{
  "nbformat": 4,
  "nbformat_minor": 0,
  "metadata": {
    "colab": {
      "provenance": [],
      "include_colab_link": true
    },
    "kernelspec": {
      "name": "python3",
      "display_name": "Python 3"
    },
    "language_info": {
      "name": "python"
    }
  },
  "cells": [
    {
      "cell_type": "markdown",
      "metadata": {
        "id": "view-in-github",
        "colab_type": "text"
      },
      "source": [
        "<a href=\"https://colab.research.google.com/github/Julianfried/Diplomatura-en-IA-Instituto-Humai/blob/main/Automatizacion%20y%20Web%20Scrapping/ejercicio/Copy_of_Vivo_Automatizacion_I_(os_y_regex).ipynb\" target=\"_parent\"><img src=\"https://colab.research.google.com/assets/colab-badge.svg\" alt=\"Open In Colab\"/></a>"
      ]
    },
    {
      "cell_type": "markdown",
      "source": [
        "# Ejercitacion extra para la clase del curso de Automatizacion y web scraping\n",
        "Fecha: 18/04/2023"
      ],
      "metadata": {
        "id": "jznJuychWuEU"
      }
    },
    {
      "cell_type": "code",
      "execution_count": null,
      "metadata": {
        "id": "kiKcWwmvWhJc"
      },
      "outputs": [],
      "source": [
        "import re\n",
        "import os"
      ]
    },
    {
      "cell_type": "markdown",
      "source": [
        "## Regex"
      ],
      "metadata": {
        "id": "0-Ta9Zla1xIi"
      }
    },
    {
      "cell_type": "markdown",
      "source": [
        "### Ejercicio 1.a\n",
        "\n",
        "Dado el siguiente texto, extraé todos los números de teléfono que tengan un código de área (2 dígitos) seguidos por el número de teléfono (8 dígitos):"
      ],
      "metadata": {
        "id": "8hhSyeXpuYsN"
      }
    },
    {
      "cell_type": "code",
      "source": [
        "texto = \"Mis números de teléfono son 1112345678, 2298765432 y 3412345678\"\n"
      ],
      "metadata": {
        "id": "3U_2NnXvusVO"
      },
      "execution_count": null,
      "outputs": []
    },
    {
      "cell_type": "code",
      "source": [
        "regla_de_busqueda = \"(\\d{2})(\\d{8})\""
      ],
      "metadata": {
        "id": "7Chd70MnY8Ij"
      },
      "execution_count": null,
      "outputs": []
    },
    {
      "cell_type": "code",
      "source": [
        "re.findall(regla_de_busqueda,texto)"
      ],
      "metadata": {
        "colab": {
          "base_uri": "https://localhost:8080/"
        },
        "id": "2pMKLATpbF51",
        "outputId": "08043401-2609-44ff-e513-224214b88306"
      },
      "execution_count": null,
      "outputs": [
        {
          "output_type": "execute_result",
          "data": {
            "text/plain": [
              "[('11', '12345678'), ('22', '98765432'), ('34', '12345678')]"
            ]
          },
          "metadata": {},
          "execution_count": 33
        }
      ]
    },
    {
      "cell_type": "markdown",
      "source": [
        "### Ejercicio 1.b\n",
        "Definir una regex para capturar estos 3 formatos de numeros de argentina:\n",
        "\n",
        "\\#\\# = codigo de area de 2 o 3 digitos\n",
        "- +54 ## \\*\\*\\*\\*-\\*\\*\\*\\*\n",
        "- +54 ## \\*\\*\\*\\*\\*\\*\\*\\*\n",
        "- ##\\*\\*\\*\\*-\\*\\*\\*\\*\n"
      ],
      "metadata": {
        "id": "rHJZNl2MZVNY"
      }
    },
    {
      "cell_type": "code",
      "source": [
        "texto = \"\"\"\n",
        "El numero de Olivia López es:\t  +54 11 2928-0030\n",
        "El numero de Santino Pérez es:\t  11 48210500\n",
        "El numero de Valentino Pérez es:\t+54 011 23754721\n",
        "El numero de Juana Pérez es:\t    11 2465-9913\n",
        "El numero de Benjamín López es:\t  261 33533018\n",
        "El numero de Lautaro González es:\t11 42949480\n",
        "El numero de Emma Díaz es:\t      +54 011 3791-9129\n",
        "El numero de Delfina Sánchez es:\t341 4144-9474\n",
        "El numero de Thiago Rodríguez es:11 1131-7384\n",
        "El numero de Ignacio López es:\t  +54 376 24393385\n",
        "El numero de Benicio Martínez es:\t+54 11 19454669\n",
        "El numero de Martina González es:\t11 7752-9870\n",
        "El numero de Jazmin Romero es:\t  358 32540780\n",
        "El numero de Isabella Martínez es: +54 011 2994-1986\n",
        "El numero de Lorenzo Pérez es:\t  261 1650-5939\n",
        "\"\"\""
      ],
      "metadata": {
        "id": "KeVH9chmvWLm"
      },
      "execution_count": null,
      "outputs": []
    },
    {
      "cell_type": "code",
      "source": [
        "regla_de_busqueda = \"(?:.54 )?\\d{2,3}? ?\\d{4}-?\\d{4}\""
      ],
      "metadata": {
        "id": "E7OJnnKRjPmD"
      },
      "execution_count": null,
      "outputs": []
    },
    {
      "cell_type": "code",
      "source": [
        "re.findall(regla_de_busqueda,texto)"
      ],
      "metadata": {
        "id": "aOG1n9MDjTOr",
        "colab": {
          "base_uri": "https://localhost:8080/"
        },
        "outputId": "94f88807-1cb3-4e4e-8c49-f1cd27667e66"
      },
      "execution_count": null,
      "outputs": [
        {
          "output_type": "execute_result",
          "data": {
            "text/plain": [
              "['+54 11 2928-0030',\n",
              " '11 48210500',\n",
              " '+54 011 23754721',\n",
              " '11 2465-9913',\n",
              " '261 33533018',\n",
              " '11 42949480',\n",
              " '+54 011 3791-9129',\n",
              " '341 4144-9474',\n",
              " '11 1131-7384',\n",
              " '+54 376 24393385',\n",
              " '+54 11 19454669',\n",
              " '11 7752-9870',\n",
              " '358 32540780',\n",
              " '+54 011 2994-1986',\n",
              " '261 1650-5939']"
            ]
          },
          "metadata": {},
          "execution_count": 19
        }
      ]
    },
    {
      "cell_type": "markdown",
      "source": [
        "### Ejercicio 2.a\n",
        "Dado el siguiente texto, extraé todas las fechas en formato dd/mm/aaaa:"
      ],
      "metadata": {
        "id": "XB3_u_fbvagG"
      }
    },
    {
      "cell_type": "code",
      "source": [
        "texto = \"Nací el 22/03/1990 y mi hermano el 15/06/1995. Mi madre nació el 12/11/1965.\"\n"
      ],
      "metadata": {
        "id": "jKweqyiEvaLX"
      },
      "execution_count": null,
      "outputs": []
    },
    {
      "cell_type": "code",
      "source": [
        "regla_de_busqueda = \"\\d+\\/\\d+\\/\\d+\""
      ],
      "metadata": {
        "id": "maoeAFOhjc_q"
      },
      "execution_count": null,
      "outputs": []
    },
    {
      "cell_type": "code",
      "source": [
        "re.findall(regla_de_busqueda,texto)"
      ],
      "metadata": {
        "colab": {
          "base_uri": "https://localhost:8080/"
        },
        "id": "hSS1cD3njdu0",
        "outputId": "e2ff64fc-ef2c-473d-ffe0-fbac2aee6654"
      },
      "execution_count": null,
      "outputs": [
        {
          "output_type": "execute_result",
          "data": {
            "text/plain": [
              "['22/03/1990', '15/06/1995', '12/11/1965']"
            ]
          },
          "metadata": {},
          "execution_count": 59
        }
      ]
    },
    {
      "cell_type": "markdown",
      "source": [
        "### Ejercicio 2.a\n",
        "Crear una regex capaz de obtener las fechas con formato:\n",
        "- dd/mm/aaaa (solo 20** o 19**): '15/04/2013' o '27/11/1987' \n",
        "- dd/mm/aa: '11/02/13' o '04/12/21' "
      ],
      "metadata": {
        "id": "eDTYPyWKXHyM"
      }
    },
    {
      "cell_type": "code",
      "source": [
        "texto = \"\"\"En estos ultimos 10 años realice distintos viajes. \n",
        "El primero fue a Madrid el 12/03/14 y volvi el 28/04/14.\n",
        "Mi siguiente destino fue Los Angeles el 19/05/15, me quede por 1 año y 3 meses hasta el 05/08/2016.\n",
        "Estuve un tiempo sin viajar hasta que el 11/11/2019 me fui a Venecia y volvi el 02/12/19.\n",
        "Mis padres viajaron por Europa en 20/09/1894.\n",
        "Y el 16/10/1999 volaron a Japon.\n",
        "\"\"\"\n"
      ],
      "metadata": {
        "id": "vLdJOKLOzkiA"
      },
      "execution_count": null,
      "outputs": []
    },
    {
      "cell_type": "code",
      "source": [
        "regla_de_busqueda = \"\\d{2}/\\d{2}/(?:20|19)?\\d{2}\""
      ],
      "metadata": {
        "id": "ifK4B3QL5IUI"
      },
      "execution_count": null,
      "outputs": []
    },
    {
      "cell_type": "code",
      "source": [
        "re.findall(regla_de_busqueda,texto)"
      ],
      "metadata": {
        "colab": {
          "base_uri": "https://localhost:8080/"
        },
        "id": "2Qio8EKS5Lg0",
        "outputId": "86b61b4b-a25b-426d-b565-1cf21c4c8174"
      },
      "execution_count": null,
      "outputs": [
        {
          "output_type": "execute_result",
          "data": {
            "text/plain": [
              "['12/03/14',\n",
              " '28/04/14',\n",
              " '19/05/15',\n",
              " '05/08/2016',\n",
              " '11/11/2019',\n",
              " '02/12/19',\n",
              " '20/09/18',\n",
              " '16/10/1999']"
            ]
          },
          "metadata": {},
          "execution_count": 22
        }
      ]
    },
    {
      "cell_type": "markdown",
      "source": [
        "### Ejercicio 3:\n",
        "Crear una función que encuentre todas las direcciones de correo electrónico en un texto dado. Las direcciones de correo electrónico deben tener el siguiente formato: \"usuario@dominio.com\". El dominio puede ser cualquier combinación de letras, números y guiones. Probá la función con el siguiente texto:"
      ],
      "metadata": {
        "id": "R3hNoToMzkyz"
      }
    },
    {
      "cell_type": "code",
      "source": [
        "texto = \"Hola, mi correo electrónico es juan.perez@gmail.com. Si no me puedes contactar allí, intenta en juan.perez@ejemplo.com.ar\"\n"
      ],
      "metadata": {
        "id": "EYorhs5w1AaL"
      },
      "execution_count": null,
      "outputs": []
    },
    {
      "cell_type": "code",
      "source": [
        "regla_de_busqueda = \"([a-zA-Z0-9._-]+@\\w+\\.\\w+)\""
      ],
      "metadata": {
        "id": "JFR_aYEqBjoO"
      },
      "execution_count": null,
      "outputs": []
    },
    {
      "cell_type": "code",
      "source": [
        "re.findall(regla_de_busqueda,texto)"
      ],
      "metadata": {
        "colab": {
          "base_uri": "https://localhost:8080/"
        },
        "id": "kIb5aFCRBmJz",
        "outputId": "a5a70dfd-0eae-49ef-c5af-317da1cf78a1"
      },
      "execution_count": null,
      "outputs": [
        {
          "output_type": "execute_result",
          "data": {
            "text/plain": [
              "['juan.perez@gmail.com', 'juan.perez@ejemplo.com']"
            ]
          },
          "metadata": {},
          "execution_count": 5
        }
      ]
    },
    {
      "cell_type": "markdown",
      "source": [
        "### Ejercicio 4:\n",
        "Dado el siguiente texto, extraé todos los números de identificación que sigan el siguiente patrón: dos letras mayúsculas seguidas de 6 dígitos:"
      ],
      "metadata": {
        "id": "q_w8cejK0-H1"
      }
    },
    {
      "cell_type": "code",
      "source": [
        "texto = \"Los números de identificación son AB123456, CD654321 y EF9876543.\"\n"
      ],
      "metadata": {
        "id": "tpnZhnI-1Dxn"
      },
      "execution_count": null,
      "outputs": []
    },
    {
      "cell_type": "code",
      "source": [
        "regla_de_busqueda = r\"[A-Z]{2}(?:\\d{6})\""
      ],
      "metadata": {
        "id": "_zUrpD2PbQnF"
      },
      "execution_count": null,
      "outputs": []
    },
    {
      "cell_type": "code",
      "source": [
        "re.findall(regla_de_busqueda,texto)"
      ],
      "metadata": {
        "colab": {
          "base_uri": "https://localhost:8080/"
        },
        "id": "yL2kPvNUbVYZ",
        "outputId": "9583132e-4bdc-453a-bce8-03cc25bf340c"
      },
      "execution_count": null,
      "outputs": [
        {
          "output_type": "execute_result",
          "data": {
            "text/plain": [
              "['AB123456', 'CD654321', 'EF987654']"
            ]
          },
          "metadata": {},
          "execution_count": 29
        }
      ]
    },
    {
      "cell_type": "markdown",
      "source": [
        "### Ejercicio 5:\n",
        "Dado el siguiente texto que contiene una lista de nombres y apellidos, extraé solamente los apellidos:"
      ],
      "metadata": {
        "id": "1WL-4Sq61FrU"
      }
    },
    {
      "cell_type": "code",
      "source": [
        "texto = \"Juan Pérez, María Rodríguez, Carlos González, Laura García\"\n"
      ],
      "metadata": {
        "id": "rjkWm-GZ1GIF"
      },
      "execution_count": null,
      "outputs": []
    },
    {
      "cell_type": "code",
      "source": [
        "regla_de_busqueda = r\"\\w+\\s(\\w+)\\b\""
      ],
      "metadata": {
        "id": "0Wrvs-0U_v2A"
      },
      "execution_count": null,
      "outputs": []
    },
    {
      "cell_type": "code",
      "source": [
        "re.findall(regla_de_busqueda,texto)"
      ],
      "metadata": {
        "colab": {
          "base_uri": "https://localhost:8080/"
        },
        "id": "EzKMPbwA_yCX",
        "outputId": "d6499ef1-fcae-4a50-9b81-0a32328c6a08"
      },
      "execution_count": null,
      "outputs": [
        {
          "output_type": "execute_result",
          "data": {
            "text/plain": [
              "['Pérez', 'Rodríguez', 'González', 'García']"
            ]
          },
          "metadata": {},
          "execution_count": 6
        }
      ]
    },
    {
      "cell_type": "markdown",
      "source": [
        "### Ejercicio 6:\n",
        "Creá una función que encuentre todos los enlaces a sitios web en un texto dado. Los enlaces deben comenzar con \"http://\" o \"https://\" y continuar con cualquier combinación de letras, números y algunos caracteres especiales como \"/\", \".\", \"-\" y \"_\". Probá la función con el siguiente texto:"
      ],
      "metadata": {
        "id": "AylfFpxX1aBc"
      }
    },
    {
      "cell_type": "code",
      "source": [
        "texto = \"Visita nuestra página web en https://www.ejemplo.com o síguenos en nuestras redes sociales: http://www.facebook.com/ejemplo y https://twitter.com/ejemplo\"\n"
      ],
      "metadata": {
        "id": "Jarct1Kq1ps4"
      },
      "execution_count": null,
      "outputs": []
    },
    {
      "cell_type": "code",
      "source": [
        "def enlaces(string):\n",
        "  patron = r'(?:https://|http://)[a-z./-]+'\n",
        "  return re.findall(patron, texto)"
      ],
      "metadata": {
        "id": "5op74jMBSK-7"
      },
      "execution_count": null,
      "outputs": []
    },
    {
      "cell_type": "code",
      "source": [
        "enlaces(texto)"
      ],
      "metadata": {
        "id": "EQZPl2o6STYC",
        "colab": {
          "base_uri": "https://localhost:8080/"
        },
        "outputId": "20adcd9d-a6e2-4607-ce65-14b2ed368e1e"
      },
      "execution_count": null,
      "outputs": [
        {
          "output_type": "execute_result",
          "data": {
            "text/plain": [
              "['https://www.ejemplo.com',\n",
              " 'http://www.facebook.com/ejemplo',\n",
              " 'https://twitter.com/ejemplo']"
            ]
          },
          "metadata": {},
          "execution_count": 14
        }
      ]
    },
    {
      "cell_type": "markdown",
      "source": [
        "### Ejercicio 7:\n",
        "Dado el siguiente texto que contiene información sobre productos y sus precios, extraé todos los precios en formato decimal (por ejemplo, 12.50):"
      ],
      "metadata": {
        "id": "XNkI3tA41Z6c"
      }
    },
    {
      "cell_type": "code",
      "source": [
        "texto = \"Producto 1: $10.99, Producto 2: $15.50, Producto 3: $25.00, Producto 4: $8.45\"\n"
      ],
      "metadata": {
        "id": "xX-4rL0V1qmI"
      },
      "execution_count": null,
      "outputs": []
    },
    {
      "cell_type": "code",
      "source": [
        "regla_de_busqueda = r\"(?:\\$)\\d+.\\d+\""
      ],
      "metadata": {
        "id": "imzq1NZkUWdD"
      },
      "execution_count": null,
      "outputs": []
    },
    {
      "cell_type": "code",
      "source": [
        "re.findall(regla_de_busqueda,texto)"
      ],
      "metadata": {
        "colab": {
          "base_uri": "https://localhost:8080/"
        },
        "id": "nbar8NeIUW9i",
        "outputId": "41a27499-d19d-46a5-b5fe-d025bbf1cd71"
      },
      "execution_count": null,
      "outputs": [
        {
          "output_type": "execute_result",
          "data": {
            "text/plain": [
              "['$10.99', '$15.50', '$25.00', '$8.45']"
            ]
          },
          "metadata": {},
          "execution_count": 17
        }
      ]
    },
    {
      "cell_type": "markdown",
      "source": [
        "### Ejercicio 8:\n",
        "Dado el siguiente texto, extraé todos los números de pasaporte que sigan el siguiente patrón: tres letras mayúsculas seguidas de un guión y 6 dígitos. Sin embargo, sólo considerá los números de pasaporte válidos si están precedidos por la palabra \"Pasaporte\" y seguidos por la fecha de vencimiento en formato dd/mm/aaaa."
      ],
      "metadata": {
        "id": "xZncbsQA1rxL"
      }
    },
    {
      "cell_type": "code",
      "source": [
        "texto = \"\"\"\n",
        "Pasaporte ABC-123456 vence el 23/04/2028\n",
        "Pasaporte DEF-654321 vence el 30/09/2025\n",
        "ABC-123456 vence el 23/04/2028\n",
        "Pasaporte GHI-987654 vence el 15/01/2023\n",
        "Pasaporte JKL-246810 15/01/2023\n",
        "Pasaporte MNO-135790 vence el 11/11/2022\n",
        "\"\"\"\n"
      ],
      "metadata": {
        "id": "KIaznRiR1qe3"
      },
      "execution_count": null,
      "outputs": []
    },
    {
      "cell_type": "code",
      "source": [
        "regla_de_busqueda = r\"[A-Z]{3}\\-\\d{6}\""
      ],
      "metadata": {
        "id": "TueRJPb7Ye3S"
      },
      "execution_count": null,
      "outputs": []
    },
    {
      "cell_type": "code",
      "source": [
        "re.findall(regla_de_busqueda,texto)"
      ],
      "metadata": {
        "colab": {
          "base_uri": "https://localhost:8080/"
        },
        "id": "Wv-t9TiZYfeF",
        "outputId": "c49f3dd1-5d5e-451b-d891-5bd81d8a91a4"
      },
      "execution_count": null,
      "outputs": [
        {
          "output_type": "execute_result",
          "data": {
            "text/plain": [
              "['ABC-123456',\n",
              " 'DEF-654321',\n",
              " 'ABC-123456',\n",
              " 'GHI-987654',\n",
              " 'JKL-246810',\n",
              " 'MNO-135790']"
            ]
          },
          "metadata": {},
          "execution_count": 26
        }
      ]
    },
    {
      "cell_type": "markdown",
      "source": [
        "## OS y funciones"
      ],
      "metadata": {
        "id": "RXre_orK1yy8"
      }
    },
    {
      "cell_type": "code",
      "source": [
        "#@title Descargar archivos\n",
        "%%capture\n",
        "!wget -O Expo_2021.zip https://unket.s3.sa-east-1.amazonaws.com/data/Expo_2021.zip\n",
        "import zipfile\n",
        "import os\n",
        "\n",
        "dir_path = 'Expo_2021'\n",
        "zip_name = dir_path + '.zip'\n",
        "# Extraemos en la nueva carpeta\n",
        "with zipfile.ZipFile(zip_name, \"r\") as zip_ref:\n",
        "  zip_ref.extractall()\n",
        "# Eliminamos el archivo .zip\n",
        "os.remove(zip_name)\n",
        "\n",
        "for name in os.listdir(dir_path):\n",
        "  file_path = os.path.join(dir_path, name)\n",
        "\n",
        "  with zipfile.ZipFile(file_path, 'r') as zip_ref:\n",
        "    zip_ref.extractall(file_path.replace('.zip', ''))\n",
        "\n",
        "  # Eliminamos el archivo .zip\n",
        "  os.remove(file_path)"
      ],
      "metadata": {
        "id": "4FDNQFwtxVNU"
      },
      "execution_count": null,
      "outputs": []
    },
    {
      "cell_type": "markdown",
      "source": [
        "### Ejercicio 1\n",
        "Creá una función que reciba un directorio como argumento e imprima la cantidad de archivos y carpetas que contiene. Probá la función en el directorio actual.\n"
      ],
      "metadata": {
        "id": "X8BXFRJm13ve"
      }
    },
    {
      "cell_type": "code",
      "source": [
        "def contador_archivos(directorio):\n",
        "  num_archivos = 0\n",
        "  num_carpetas = 0\n",
        "\n",
        "  for nombre in os.listdir(directorio):\n",
        "    if os.path.isfile(os.path.join(directorio, nombre)):\n",
        "      num_archivos +=1\n",
        "    elif os.path.isdir(os.path.join(directorio, nombre)):\n",
        "      num_carpetas += 1\n",
        "  return f'Tienes {num_archivos} archivos y {num_carpetas} carpetas'"
      ],
      "metadata": {
        "id": "VDeXFcgf1yOO"
      },
      "execution_count": null,
      "outputs": []
    },
    {
      "cell_type": "code",
      "source": [
        "contador_archivos('.')"
      ],
      "metadata": {
        "colab": {
          "base_uri": "https://localhost:8080/",
          "height": 35
        },
        "id": "7tS2lLH2dgiA",
        "outputId": "bf1890ea-2842-4ee6-a2dd-fccadea37d30"
      },
      "execution_count": null,
      "outputs": [
        {
          "output_type": "execute_result",
          "data": {
            "text/plain": [
              "'Tienes 0 archivos y 3 carpetas'"
            ],
            "application/vnd.google.colaboratory.intrinsic+json": {
              "type": "string"
            }
          },
          "metadata": {},
          "execution_count": 33
        }
      ]
    },
    {
      "cell_type": "code",
      "source": [
        "contador_archivos('./Expo_2021')"
      ],
      "metadata": {
        "id": "nTb-sf7Kel53",
        "outputId": "36555995-f9dd-4fbc-8660-8696c5e1d717",
        "colab": {
          "base_uri": "https://localhost:8080/",
          "height": 35
        }
      },
      "execution_count": null,
      "outputs": [
        {
          "output_type": "execute_result",
          "data": {
            "text/plain": [
              "'Tienes 0 archivos y 12 carpetas'"
            ],
            "application/vnd.google.colaboratory.intrinsic+json": {
              "type": "string"
            }
          },
          "metadata": {},
          "execution_count": 34
        }
      ]
    },
    {
      "cell_type": "markdown",
      "source": [
        "### Ejercicio 2 \n",
        "\n",
        "Creá una función que tome una lista de nombres de archivo y una extensión como argumentos. La función debe crear una nueva carpeta con el nombre de la extensión y mover todos los archivos con esa extensión a la nueva carpeta. \n",
        "\n",
        "Nota: probá la función con algunos archivos en tu directorio actual."
      ],
      "metadata": {
        "id": "_UKNotPK14zh"
      }
    },
    {
      "cell_type": "code",
      "source": [
        "import shutil"
      ],
      "metadata": {
        "id": "10AtnH1Dcbic"
      },
      "execution_count": null,
      "outputs": []
    },
    {
      "cell_type": "code",
      "source": [
        "def crear_archivo(lista_archivos, extension):\n",
        "  nombre_carpeta = extension[1:] + '_carpeta'\n",
        "\n",
        "  if not os.path.exists(nombre_carpeta):\n",
        "    os.makedirs(nombre_carpeta)\n",
        "  \n",
        "  for archivo in lista_archivos:\n",
        "    print(archivo)\n",
        "    if archivo.endswith(extension):\n",
        "      nombre_archivo = archivo.split('/')[-1]\n",
        "      shutil.move(archivo, os.path.join(nombre_carpeta,nombre_archivo))\n",
        "  \n",
        "ruta_directorio = 'sample_data'\n",
        "archivos = [os.path.join(ruta_directorio, archivo) for archivo in os.listdir(ruta_directorio)]\n"
      ],
      "metadata": {
        "id": "Ex8S9l0l18_8"
      },
      "execution_count": null,
      "outputs": []
    },
    {
      "cell_type": "code",
      "source": [
        "crear_archivo(archivos,'.csv')"
      ],
      "metadata": {
        "colab": {
          "base_uri": "https://localhost:8080/"
        },
        "id": "04YNXjuXbyaF",
        "outputId": "33b1bb31-a791-47e2-bd10-b6adc26af670"
      },
      "execution_count": null,
      "outputs": [
        {
          "output_type": "stream",
          "name": "stdout",
          "text": [
            "sample_data/README.md\n",
            "sample_data/anscombe.json\n"
          ]
        }
      ]
    },
    {
      "cell_type": "code",
      "source": [],
      "metadata": {
        "id": "xHdTMMxqfP-i"
      },
      "execution_count": null,
      "outputs": []
    },
    {
      "cell_type": "markdown",
      "source": [
        "### Ejercicio 3 \n",
        "\n",
        "Creá una función que reciba un directorio y una palabra clave como argumentos. La función debe buscar todos los archivos de texto (.txt) en el directorio y sus subdirectorios que contengan la palabra clave y devolver una lista con las rutas de esos archivos."
      ],
      "metadata": {
        "id": "z6XXC9Dx16nk"
      }
    },
    {
      "cell_type": "code",
      "source": [
        "def buscador(directorio, palabra_clave):\n",
        "  lista_rutas_txt = []\n",
        "  for carpeta, subcarpeta, archivos in os.walk(directorio):\n",
        "    for archivo in archivos:\n",
        "      if archivo.endswith('.txt'):\n",
        "        with open(os.path.join(carpeta, archivo), 'r', encoding='utf-8') as file:\n",
        "          contenido = file.read()\n",
        "          if palabra_clave in contenido:\n",
        "            lista_rutas_txt.append(os.path.join(carpeta, archivo))\n",
        "  return lista_rutas_txt\n"
      ],
      "metadata": {
        "id": "38ADT62U-_15"
      },
      "execution_count": null,
      "outputs": []
    },
    {
      "cell_type": "code",
      "source": [],
      "metadata": {
        "id": "rBjqSs-bB1LH"
      },
      "execution_count": null,
      "outputs": []
    },
    {
      "cell_type": "code",
      "source": [
        "buscador('.', 'saludo')"
      ],
      "metadata": {
        "colab": {
          "base_uri": "https://localhost:8080/"
        },
        "id": "JEiwOXQUDPa5",
        "outputId": "1f51e6f2-64af-433a-f3bb-9d3410f8c49d"
      },
      "execution_count": null,
      "outputs": [
        {
          "output_type": "execute_result",
          "data": {
            "text/plain": [
              "['./chau.txt']"
            ]
          },
          "metadata": {},
          "execution_count": 46
        }
      ]
    },
    {
      "cell_type": "markdown",
      "source": [
        "### Ejercicio 4 \n",
        "\n",
        "Creá una función que reciba una ruta de archivo y devuelva el tipo de archivo ('csv', 'sav', 'dta') según su extensión. Utilizá la función en algunos archivos de su directorio para verificar que funcione correctamente."
      ],
      "metadata": {
        "id": "o3acOTE7_BK3"
      }
    },
    {
      "cell_type": "code",
      "source": [
        "def tipo_archivo(path_f):\n",
        "  if not os.path.isfile(path_f):\n",
        "    return None\n",
        "  \n",
        "  root, extension = os.path.splitext(path_f)\n",
        "  \n",
        "  if extension:\n",
        "    return extension[1:]\n",
        "  else:\n",
        "    return None\n",
        "\n",
        "path_dir = 'Expo_2021/Diciembre'\n",
        "files = [os.path.join(path_dir, file_path) for file_path in os.listdir(path_dir)]\n",
        "for file_path in files:\n",
        "  print(f'El archivo {file_path} tiene una extension {tipo_archivo(file_path)}')\n"
      ],
      "metadata": {
        "id": "gpzWpzJD_CK1",
        "colab": {
          "base_uri": "https://localhost:8080/"
        },
        "outputId": "efe483bf-26e0-4517-af62-939bb703c297"
      },
      "execution_count": null,
      "outputs": [
        {
          "output_type": "stream",
          "name": "stdout",
          "text": [
            "El archivo Expo_2021/Diciembre/Diciembre.csv tiene una extension csv\n",
            "El archivo Expo_2021/Diciembre/Diciembre.dta tiene una extension dta\n",
            "El archivo Expo_2021/Diciembre/Diciembre.sav tiene una extension sav\n"
          ]
        }
      ]
    },
    {
      "cell_type": "code",
      "source": [],
      "metadata": {
        "id": "9HhPis6m_EQr"
      },
      "execution_count": null,
      "outputs": []
    }
  ]
}