{
  "nbformat": 4,
  "nbformat_minor": 0,
  "metadata": {
    "colab": {
      "provenance": [],
      "include_colab_link": true
    },
    "kernelspec": {
      "name": "python3",
      "display_name": "Python 3"
    },
    "language_info": {
      "name": "python"
    }
  },
  "cells": [
    {
      "cell_type": "markdown",
      "metadata": {
        "id": "view-in-github",
        "colab_type": "text"
      },
      "source": [
        "<a href=\"https://colab.research.google.com/github/Julianfried/Diplomatura-en-IA-Instituto-Humai/blob/main/Matematicas%20para%20IA/ejercicios_matrices_clase_vivo.ipynb\" target=\"_parent\"><img src=\"https://colab.research.google.com/assets/colab-badge.svg\" alt=\"Open In Colab\"/></a>"
      ]
    },
    {
      "cell_type": "markdown",
      "source": [
        "# Ejercicios en vivo - clase 2 Matematica para IA"
      ],
      "metadata": {
        "id": "GsYBssGS9xKB"
      }
    },
    {
      "cell_type": "code",
      "execution_count": 1,
      "metadata": {
        "id": "2oZz4KBi9lHB"
      },
      "outputs": [],
      "source": [
        "import numpy as np\n",
        "\n",
        "A = np.array([\n",
        "    [25,20,54],\n",
        "    [33, 7,14]\n",
        "])\n",
        "\n",
        "B = np.array([\n",
        "    [34,50],\n",
        "    [40,20],\n",
        "    [23,47]\n",
        "])\n",
        "\n",
        "C = np.array([\n",
        "        [ 2,  3, -8],\n",
        "        [ 0, 17,-19],\n",
        "        [ 0,  0, 31]\n",
        "])\n",
        "\n",
        "D = np.array([\n",
        "        [37, 29,  7],\n",
        "        [29, 17, 19],\n",
        "        [ 7, 19, 37]\n",
        "    ])"
      ]
    },
    {
      "cell_type": "markdown",
      "source": [
        "## 1) Clasificar las matrices A, B, C y D\n",
        "Puede haber más de una opción correcta, así como ninguna opción correcta."
      ],
      "metadata": {
        "id": "1iXoJ82D90PA"
      }
    },
    {
      "cell_type": "code",
      "source": [
        "#@markdown Matriz A\n",
        "Cuadrada_A = False #@param {type:\"boolean\"}\n",
        "Simetrica_A = False #@param {type:\"boolean\"}\n",
        "Triangular_Superior_A = False #@param {type:\"boolean\"}\n",
        "Triangular_Inferior_A = False #@param {type:\"boolean\"}\n",
        "res_A = [Cuadrada_A, Simetrica_A, Triangular_Superior_A, Triangular_Inferior_A]\n",
        "\n",
        "#@markdown Matriz B\n",
        "Cuadrada_B = False #@param {type:\"boolean\"}\n",
        "Simetrica_B = False #@param {type:\"boolean\"}\n",
        "Triangular_Superior_B = False #@param {type:\"boolean\"}\n",
        "Triangular_Inferior_B = False #@param {type:\"boolean\"}\n",
        "\n",
        "#@markdown Matriz C\n",
        "Cuadrada_C = True #@param {type:\"boolean\"}\n",
        "Simetrica_C = False #@param {type:\"boolean\"}\n",
        "Triangular_Superior_C = True #@param {type:\"boolean\"}\n",
        "Triangular_Inferior_C = False #@param {type:\"boolean\"}\n",
        "\n",
        "#@markdown Matriz D\n",
        "Cuadrada_D = True #@param {type:\"boolean\"}\n",
        "Simetrica_D = True #@param {type:\"boolean\"}\n",
        "Triangular_Superior_D = False #@param {type:\"boolean\"}\n",
        "Triangular_Inferior_D = False #@param {type:\"boolean\"}"
      ],
      "metadata": {
        "id": "BA1aliNq9z2l",
        "cellView": "form"
      },
      "execution_count": 2,
      "outputs": []
    },
    {
      "cell_type": "code",
      "source": [
        "#@markdown ###Respuestas\n",
        "print('La matriz A no cumple ninguna de las clasificaciones')\n",
        "print('La matriz B no cumple ninguna de las clasificaciones')\n",
        "print('La matriz C es una matriz cuadrada y triangular superior')\n",
        "print('La matriz D es una matriz cuadrada y simetrica')"
      ],
      "metadata": {
        "id": "N4qPFc0fNSdY",
        "colab": {
          "base_uri": "https://localhost:8080/"
        },
        "outputId": "f8ae17f8-84e3-4634-e05e-9d09827bb90a"
      },
      "execution_count": 3,
      "outputs": [
        {
          "output_type": "stream",
          "name": "stdout",
          "text": [
            "La matriz A no cumple ninguna de las clasificaciones\n",
            "La matriz B no cumple ninguna de las clasificaciones\n",
            "La matriz C es una matriz cuadrada y triangular superior\n",
            "La matriz D es una matriz cuadrada y simetrica\n"
          ]
        }
      ]
    },
    {
      "cell_type": "markdown",
      "source": [
        "## 2) Obtener la transpuesta de B y C\n",
        "Guardar la transpuesta de `C` en `E`"
      ],
      "metadata": {
        "id": "U08lSiEcKeqa"
      }
    },
    {
      "cell_type": "code",
      "source": [
        "E = C.T\n",
        "b = B.T\n",
        "print(E)\n"
      ],
      "metadata": {
        "id": "_itCjFhkKjPb",
        "colab": {
          "base_uri": "https://localhost:8080/"
        },
        "outputId": "997e30cc-069b-4b1b-de7e-7d3c0e95d07d"
      },
      "execution_count": 6,
      "outputs": [
        {
          "output_type": "stream",
          "name": "stdout",
          "text": [
            "[[  2   0   0]\n",
            " [  3  17   0]\n",
            " [ -8 -19  31]]\n"
          ]
        }
      ]
    },
    {
      "cell_type": "markdown",
      "source": [
        "## 3) Realizar las siguientes operaciones\n",
        "\n",
        "- $2 \\cdot C + 2D$\n",
        "- $2 \\cdot (C + D)$\n",
        "- $3C + 4E$"
      ],
      "metadata": {
        "id": "vI_KxcACKtem"
      }
    },
    {
      "cell_type": "code",
      "source": [
        "C = np.array([\n",
        "        [ 2,  3, -8],\n",
        "        [ 0, 17,-19],\n",
        "        [ 0,  0, 31]\n",
        "])\n",
        "\n",
        "D = np.array([\n",
        "        [37, 29,  7],\n",
        "        [29, 17, 19],\n",
        "        [ 7, 19, 37]\n",
        "    ])"
      ],
      "metadata": {
        "id": "_1g8EoJUxRhj"
      },
      "execution_count": 7,
      "outputs": []
    },
    {
      "cell_type": "code",
      "source": [
        "resultado1 = 2*C + 2*D\n",
        "\n",
        "resultado2 = 2*(C+D)\n",
        "\n",
        "resultado3 = 3*C + 4*E\n",
        "\n",
        "print(\"2*C + 2*D:\")\n",
        "print(resultado1)\n",
        "\n",
        "print(\"2*(C + D):\")\n",
        "print(resultado2)\n",
        "\n",
        "print(\"3*C + 4*E:\")\n",
        "print(resultado3)\n"
      ],
      "metadata": {
        "id": "562UuSotMAsT",
        "colab": {
          "base_uri": "https://localhost:8080/"
        },
        "outputId": "3b918888-8686-4098-db85-4e23633f6fe7"
      },
      "execution_count": 8,
      "outputs": [
        {
          "output_type": "stream",
          "name": "stdout",
          "text": [
            "2*C + 2*D:\n",
            "[[ 78  64  -2]\n",
            " [ 58  68   0]\n",
            " [ 14  38 136]]\n",
            "2*(C + D):\n",
            "[[ 78  64  -2]\n",
            " [ 58  68   0]\n",
            " [ 14  38 136]]\n",
            "3*C + 4*E:\n",
            "[[ 14   9 -24]\n",
            " [ 12 119 -57]\n",
            " [-32 -76 217]]\n"
          ]
        }
      ]
    },
    {
      "cell_type": "markdown",
      "source": [
        "## Respuestas:\n",
        "\n",
        "Dimensiones de las matrices:\n",
        "A: Dimensión (2 x 3)\n",
        "B: Dimensión (3 x 2)\n",
        "C: Dimensión (3 x 3)\n",
        "D: Dimensión (3 x 3)\n",
        "\n",
        "F=AB  ¿Se puede realizar esta operacion?\n",
        "Esta operación se puede realizar si el número de columnas de A coincide con el número de filas de B. Por lo tanto, se puede realizar la multiplicación.\n",
        "\n",
        "G=BA  ¿Se puede realizar esta operacion?\n",
        "Esta operación no se puede realizar. El número de columnas de B es distinto al de filas de A.\n",
        "\n",
        "H=A(DTC)  ¿Se puede realizar esta operacion?\n",
        "Esta operación se puede realizar si el número de columnas de A coincide con el número de filas de DTC. Como $D^TC$ resulta en una matriz de (3x3), el número de filas coincide con el número de columnas de A. Por lo tanto, se puede realizar la multiplicación."
      ],
      "metadata": {
        "id": "461q_DQWEQRK"
      }
    },
    {
      "cell_type": "code",
      "source": [],
      "metadata": {
        "id": "KEwCshitEd7c"
      },
      "execution_count": null,
      "outputs": []
    },
    {
      "cell_type": "markdown",
      "source": [
        "## 4) Completar la implementacion de la funcion obtener_diagonal(), solo si la matriz es cuadrada"
      ],
      "metadata": {
        "id": "txNdkjsUL2I5"
      }
    },
    {
      "cell_type": "code",
      "source": [
        "def obtener_diagonal(A):\n",
        "  filas, columnas = A.shape\n",
        "\n",
        "  if filas==columnas:\n",
        "    diagonal = np.zeros(filas)\n",
        "    for i in range(filas):\n",
        "      diagonal[i] = A[i,i]\n",
        "    return diagonal\n",
        "\n",
        "  return None\n",
        "\n",
        "print('Matriz C:')\n",
        "print(C)\n",
        "print('Diagonal de C:')\n",
        "print(obtener_diagonal(C))"
      ],
      "metadata": {
        "id": "i3Kr6WQDL1v_",
        "colab": {
          "base_uri": "https://localhost:8080/"
        },
        "outputId": "759e5a78-3cf5-4ecc-e885-f1e2ea4549d5"
      },
      "execution_count": 9,
      "outputs": [
        {
          "output_type": "stream",
          "name": "stdout",
          "text": [
            "Matriz C:\n",
            "[[  2   3  -8]\n",
            " [  0  17 -19]\n",
            " [  0   0  31]]\n",
            "Diagonal de C:\n",
            "[ 2. 17. 31.]\n"
          ]
        }
      ]
    },
    {
      "cell_type": "markdown",
      "source": [
        "## 5) Completar la implementacion de las funciones permite_inversa() y obtener_inversa()\n",
        "Para obtener la inversa se debe verificar que la matriz admite inversa. Si es posible, devolver la inversa, sino generar un ValueError.\n",
        "\n",
        "**Nota:** una matriz es inversible si su determinante es distinto de 0, estas matrices se llaman no singulares o regulares."
      ],
      "metadata": {
        "id": "v7pwT7oFF2OI"
      }
    },
    {
      "cell_type": "code",
      "source": [
        "def permite_inversa(A):\n",
        "  det_A = np.linalg.det(A)\n",
        "  return det_A != 0\n",
        "\n",
        "def obtener_inversa(A):\n",
        "  if permite_inversa(A):\n",
        "    inversa = np.linalg.inv(A)\n",
        "    return inversa\n",
        "  else:\n",
        "    raise ValueError(\"La matriz no admite inversa\")"
      ],
      "metadata": {
        "id": "4wzk3vdaGqrr"
      },
      "execution_count": 10,
      "outputs": []
    }
  ]
}