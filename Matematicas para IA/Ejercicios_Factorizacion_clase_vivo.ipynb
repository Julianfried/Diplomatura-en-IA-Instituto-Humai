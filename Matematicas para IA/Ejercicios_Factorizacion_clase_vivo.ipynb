{
  "nbformat": 4,
  "nbformat_minor": 0,
  "metadata": {
    "colab": {
      "provenance": [],
      "include_colab_link": true
    },
    "kernelspec": {
      "name": "python3",
      "display_name": "Python 3"
    },
    "language_info": {
      "name": "python"
    }
  },
  "cells": [
    {
      "cell_type": "markdown",
      "metadata": {
        "id": "view-in-github",
        "colab_type": "text"
      },
      "source": [
        "<a href=\"https://colab.research.google.com/github/Julianfried/Diplomatura-en-IA-Instituto-Humai/blob/main/Matematicas%20para%20IA/Ejercicios_Factorizacion_clase_vivo.ipynb\" target=\"_parent\"><img src=\"https://colab.research.google.com/assets/colab-badge.svg\" alt=\"Open In Colab\"/></a>"
      ]
    },
    {
      "cell_type": "markdown",
      "source": [],
      "metadata": {
        "id": "wCoXnSBSNTBj"
      }
    },
    {
      "cell_type": "code",
      "execution_count": 1,
      "metadata": {
        "id": "gOEkrJp6McXJ"
      },
      "outputs": [],
      "source": [
        "import numpy as np\n",
        "import matplotlib.pyplot as plt\n",
        "from matplotlib.patches import Polygon"
      ]
    },
    {
      "cell_type": "markdown",
      "source": [
        "Observar el gráfico de la siguiente matriz cuyos valores son:\n",
        "P1 = (0, 0)\n",
        "P2 = (1, 0)\n",
        "P3 = (1, 1)\n",
        "P4 = (0, 1)"
      ],
      "metadata": {
        "id": "ls9Zb7m5SnC0"
      }
    },
    {
      "cell_type": "code",
      "source": [
        "def grafico_matrices(X):\n",
        "    X = np.array([[0, 1, 1, 0], [0, 0, 1, 1]])  # Matriz de puntos iniciales\n",
        "\n",
        "    plt.figure(figsize=(6, 6))\n",
        "    plt.scatter(X[0, :], X[1, :], color='blue', s=100)\n",
        "    plt.plot([X[0, 0], X[0, 1]], [X[1, 0], X[1, 1]], color='blue')\n",
        "    plt.plot([X[0, 1], X[0, 2]], [X[1, 1], X[1, 2]], color='blue')\n",
        "    plt.plot([X[0, 2], X[0, 3]], [X[1, 2], X[1, 3]], color='blue')\n",
        "    plt.plot([X[0, 3], X[0, 0]], [X[1, 3], X[1, 0]], color='blue')\n",
        "    plt.grid(True)\n",
        "    plt.xlim(-1, 2)\n",
        "    plt.ylim(-1, 2)\n",
        "    plt.xlabel('Eje X')\n",
        "    plt.ylabel('Eje Y')\n",
        "    plt.title('Gráfico de matrices')\n",
        "    plt.show()\n",
        "\n",
        "grafico_matrices()"
      ],
      "metadata": {
        "colab": {
          "base_uri": "https://localhost:8080/",
          "height": 564
        },
        "id": "d9X2TIT0RKjo",
        "outputId": "db8af594-1b69-41c0-8ba5-fb6d6addba52"
      },
      "execution_count": 2,
      "outputs": [
        {
          "output_type": "display_data",
          "data": {
            "text/plain": [
              "<Figure size 600x600 with 1 Axes>"
            ],
            "image/png": "[encoded data removed]"
          },
          "metadata": {}
        }
      ]
    },
    {
      "cell_type": "markdown",
      "source": [
        "Definir una matriz llamada 'T' de transformación lineal que multiplique por *2*:\n",
        "\n"
      ],
      "metadata": {
        "id": "tltFkyhMQYO2"
      }
    },
    {
      "cell_type": "code",
      "source": [],
      "metadata": {
        "id": "bzWyY_xWsEeU"
      },
      "execution_count": 7,
      "outputs": []
    },
    {
      "cell_type": "code",
      "source": [
        "# Definir la matriz de transformación lineal\n"
      ],
      "metadata": {
        "id": "dNTqPh0jTeVQ"
      },
      "execution_count": 5,
      "outputs": []
    },
    {
      "cell_type": "markdown",
      "source": [
        "Aplicar la transformación lineal a la matriz 'X' graficada previamente:"
      ],
      "metadata": {
        "id": "78yzN6SGTvf2"
      }
    },
    {
      "cell_type": "code",
      "source": [],
      "metadata": {
        "id": "82QnsDcYhU0t"
      },
      "execution_count": 9,
      "outputs": []
    },
    {
      "cell_type": "markdown",
      "source": [
        "Graficar encima de la matriz 'X' la nueva matriz con tranformación lineal:\n"
      ],
      "metadata": {
        "id": "2AYTPxKOUSbN"
      }
    },
    {
      "cell_type": "code",
      "source": [
        "import numpy as np\n",
        "import matplotlib.pyplot as plt\n",
        "def grafico_transformacion_lineal():\n",
        "    # Definir la matriz de puntos iniciales\n",
        "  X = np.array([[0, 1, 1, 0], [0, 0, 1, 1]])\n",
        "    # Definir la matriz de transformación lineal\n",
        "  E = np.array([[2,0],[0,2]])\n",
        "    # Aplicar la transformación lineal a la matriz de puntos\n",
        "  EX = np.dot(E, X)\n",
        "    # Crear el gráfico\n",
        "  plt.figure(figsize=(6, 6))\n",
        "    # Graficar los puntos iniciales en azul\n",
        "  plt.scatter(X[0, :], X[1, :], color='blue', s=100)\n",
        "\n",
        "    # Graficar los puntos transformados en rojo\n",
        "  plt.scatter(EX[0, :], EX[1, :], color='red', s=100)\n",
        "    # Graficar las líneas que conectan los puntos iniciales en azul\n",
        "  plt.plot(X[0, [0, 1, 2, 3, 0]], X[1, [0, 1, 2, 3, 0]], color='blue')\n",
        "    # Graficar las líneas que conectan los puntos transformados en rojo\n",
        "  plt.plot(EX[0, [0, 1, 2, 3, 0]], EX[1, [0, 1, 2, 3, 0]], color='red')\n",
        "    # Configurar los límites del gráfico\n",
        "  plt.xlim(-2, 2)\n",
        "  plt.ylim(-2, 2)\n",
        "    # Configurar las etiquetas de los ejes\n",
        "  plt.xlabel('Eje X')\n",
        "  plt.ylabel('Eje Y')\n",
        "    # Configurar el título del gráfico\n",
        "  plt.title('Transformación Lineal')\n",
        "    # Mostrar el gráfico\n",
        "  plt.show()\n",
        "\n",
        "grafico_transformacion_lineal()"
      ],
      "metadata": {
        "colab": {
          "base_uri": "https://localhost:8080/",
          "height": 564
        },
        "id": "R645jzvAUZ8e",
        "outputId": "9caa3e5a-b897-4d21-b51b-376ec34a0a9b"
      },
      "execution_count": 10,
      "outputs": [
        {
          "output_type": "display_data",
          "data": {
            "text/plain": [
              "<Figure size 600x600 with 1 Axes>"
            ],
            "image/png": "[encoded data removed]"
          },
          "metadata": {}
        }
      ]
    },
    {
      "cell_type": "markdown",
      "source": [
        "Considerando la matriz M definida a continuación:\n",
        "\n"
      ],
      "metadata": {
        "id": "YVYlaYoyUX3C"
      }
    },
    {
      "cell_type": "code",
      "source": [
        "M = np.array([[1, -2], [2, -3]])"
      ],
      "metadata": {
        "id": "CnwTvUqxihrA"
      },
      "execution_count": 11,
      "outputs": []
    },
    {
      "cell_type": "markdown",
      "source": [
        "Definir un vector inicial v de tamaño 2"
      ],
      "metadata": {
        "id": "C-l2WMZQi0my"
      }
    },
    {
      "cell_type": "code",
      "source": [
        "v = np.array([1, 1])"
      ],
      "metadata": {
        "id": "IJpwy4jci2HL"
      },
      "execution_count": 13,
      "outputs": []
    },
    {
      "cell_type": "markdown",
      "source": [
        "Implementar un bucle que realice iteraciones para aproximar un autovector y un autovalor."
      ],
      "metadata": {
        "id": "6z4KLUnbi2eW"
      }
    },
    {
      "cell_type": "code",
      "source": [
        "print('iteracion 0')\n",
        "print(\"v=\", v)\n",
        "for i in range(5):\n",
        "  v = M @ v\n",
        "  v_norm = np.linalg.norm(v, ord=np.inf)\n",
        "  v_normalized = v/v_norm\n",
        "  eigenvalue_approx = v_norm\n",
        "  print(\"Iteración\", i+1, \":\")\n",
        "  print(\"v =\", v_normalized)\n",
        "  print(\"Autovalor aproximado:\", eigenvalue_approx)"
      ],
      "metadata": {
        "id": "Tsv3Ltd7219X",
        "colab": {
          "base_uri": "https://localhost:8080/"
        },
        "outputId": "c68b1a0e-490f-4ea4-bddd-30ea35be9d75"
      },
      "execution_count": 16,
      "outputs": [
        {
          "output_type": "stream",
          "name": "stdout",
          "text": [
            "iteracion 0\n",
            "v= [1 1]\n",
            "Iteración 1 :\n",
            "v = [-1. -1.]\n",
            "Autovalor aproximado: 1.0\n",
            "Iteración 2 :\n",
            "v = [1. 1.]\n",
            "Autovalor aproximado: 1.0\n",
            "Iteración 3 :\n",
            "v = [-1. -1.]\n",
            "Autovalor aproximado: 1.0\n",
            "Iteración 4 :\n",
            "v = [1. 1.]\n",
            "Autovalor aproximado: 1.0\n",
            "Iteración 5 :\n",
            "v = [-1. -1.]\n",
            "Autovalor aproximado: 1.0\n"
          ]
        }
      ]
    },
    {
      "cell_type": "markdown",
      "source": [
        "Calcular los autovalores y autovectores exactos utilizando np.linalg.eig"
      ],
      "metadata": {
        "id": "OBPCPyGQjHEp"
      }
    },
    {
      "cell_type": "code",
      "source": [
        "eigenvalues, eigenvectors = np.linalg.eig(M)"
      ],
      "metadata": {
        "id": "P3WcVkBp22cg"
      },
      "execution_count": 17,
      "outputs": []
    },
    {
      "cell_type": "markdown",
      "source": [
        "Imprimir los autovalores y autovectores exactos"
      ],
      "metadata": {
        "id": "uJBN2r2cjJIg"
      }
    },
    {
      "cell_type": "code",
      "source": [
        "print(\"Autovalores exactos:\")\n",
        "for i in range(len(eigenvalues)):\n",
        "    print(eigenvalues[i])\n",
        "    print(\"Autovector correspondiente:\", eigenvectors[:, i])"
      ],
      "metadata": {
        "id": "Xld1p6xd225N",
        "colab": {
          "base_uri": "https://localhost:8080/"
        },
        "outputId": "bc19942e-b19a-4573-9b82-e6078b48bda2"
      },
      "execution_count": 18,
      "outputs": [
        {
          "output_type": "stream",
          "name": "stdout",
          "text": [
            "Autovalores exactos:\n",
            "-0.999999978926576\n",
            "Autovector correspondiente: [0.70710678 0.70710678]\n",
            "-1.0000000210734246\n",
            "Autovector correspondiente: [0.70710678 0.70710678]\n"
          ]
        }
      ]
    },
    {
      "cell_type": "markdown",
      "source": [
        "# Definir la matriz M arbitraria\n",
        "\n",
        "\n",
        "\n",
        "\n",
        "\n",
        "\n",
        "\n",
        "\n",
        "\n",
        "\n",
        "\n",
        "\n"
      ],
      "metadata": {
        "id": "A0HEmcL6kE5M"
      }
    },
    {
      "cell_type": "code",
      "source": [
        "M = np.array([[1, -2], [2, -3]])"
      ],
      "metadata": {
        "id": "isQblsv8kRSy"
      },
      "execution_count": 19,
      "outputs": []
    },
    {
      "cell_type": "markdown",
      "source": [
        "Calcular los autovalores y autovectores de M"
      ],
      "metadata": {
        "id": "dQDeAJfLkO2k"
      }
    },
    {
      "cell_type": "code",
      "source": [
        "\n",
        "eigenvalues, eigenvectors = np.linalg.eig(M)\n",
        "print(eigenvalues, eigenvectors)"
      ],
      "metadata": {
        "id": "mQqyaAVzkV5U",
        "colab": {
          "base_uri": "https://localhost:8080/"
        },
        "outputId": "31d619c1-9c4d-4873-d61e-93992c2aa8aa"
      },
      "execution_count": 20,
      "outputs": [
        {
          "output_type": "stream",
          "name": "stdout",
          "text": [
            "[-0.99999998 -1.00000002] [[0.70710678 0.70710678]\n",
            " [0.70710678 0.70710678]]\n"
          ]
        }
      ]
    },
    {
      "cell_type": "markdown",
      "source": [
        "# Crear la matriz diagonal Lambda (Λ)"
      ],
      "metadata": {
        "id": "U9nCEbAikZEb"
      }
    },
    {
      "cell_type": "code",
      "source": [
        "Lambda = np.diag(eigenvalues)"
      ],
      "metadata": {
        "id": "brNdWzBdkbRt"
      },
      "execution_count": 21,
      "outputs": []
    },
    {
      "cell_type": "markdown",
      "source": [
        "Crear la matriz de autovectores X"
      ],
      "metadata": {
        "id": "HLTGmwV7kdUH"
      }
    },
    {
      "cell_type": "code",
      "source": [
        "X = eigenvectors"
      ],
      "metadata": {
        "id": "8uVtfsQIkebk"
      },
      "execution_count": 22,
      "outputs": []
    },
    {
      "cell_type": "markdown",
      "source": [
        "\n",
        "# Calcular la inversa de la matriz X\n"
      ],
      "metadata": {
        "id": "iU-n2rWxkhtl"
      }
    },
    {
      "cell_type": "code",
      "source": [
        "X_inv = np.linalg.inv(X)"
      ],
      "metadata": {
        "id": "bT5Q_3mlkkZi"
      },
      "execution_count": 23,
      "outputs": []
    },
    {
      "cell_type": "markdown",
      "source": [
        "# Verificar la diagonalización de M: M = X * Lambda * X_inv\n"
      ],
      "metadata": {
        "id": "Hp7OBOzAkmEc"
      }
    },
    {
      "cell_type": "code",
      "source": [
        "diagonalized_M = X @ Lambda @ X_inv"
      ],
      "metadata": {
        "id": "C5U1QbnVknFp"
      },
      "execution_count": 24,
      "outputs": []
    },
    {
      "cell_type": "markdown",
      "source": [
        "# Imprimir la matriz diagonalizada y la matriz original M\n"
      ],
      "metadata": {
        "id": "3m8e-Y8Ykyew"
      }
    },
    {
      "cell_type": "code",
      "source": [
        "print(\"Matriz diagonalizada:\")\n",
        "print(diagonalized_M)\n",
        "print(\"Matriz original M:\")\n",
        "print(M)"
      ],
      "metadata": {
        "id": "QRvdfFGd2t1A",
        "colab": {
          "base_uri": "https://localhost:8080/"
        },
        "outputId": "3867dbe4-658c-4c5d-82d6-5fa126117561"
      },
      "execution_count": 25,
      "outputs": [
        {
          "output_type": "stream",
          "name": "stdout",
          "text": [
            "Matriz diagonalizada:\n",
            "[[ 1.00000001 -2.        ]\n",
            " [ 2.00000001 -3.00000002]]\n",
            "Matriz original M:\n",
            "[[ 1 -2]\n",
            " [ 2 -3]]\n"
          ]
        }
      ]
    }
  ]
}