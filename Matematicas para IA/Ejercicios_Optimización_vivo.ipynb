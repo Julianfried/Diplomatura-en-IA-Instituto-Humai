{
  "cells": [
    {
      "cell_type": "markdown",
      "metadata": {
        "id": "view-in-github",
        "colab_type": "text"
      },
      "source": [
        "<a href=\"https://colab.research.google.com/github/Julianfried/Diplomatura-en-IA-Instituto-Humai/blob/main/Matematicas%20para%20IA/Ejercicios_Optimizaci%C3%B3n_vivo.ipynb\" target=\"_parent\"><img src=\"https://colab.research.google.com/assets/colab-badge.svg\" alt=\"Open In Colab\"/></a>"
      ]
    },
    {
      "cell_type": "markdown",
      "id": "b5c8873e",
      "metadata": {
        "id": "b5c8873e"
      },
      "source": [
        "# Ejercicios Optimización centrada en Aprendizaje Automático"
      ]
    },
    {
      "cell_type": "code",
      "source": [
        "import numpy as np\n",
        "import pandas as pd\n",
        "import scipy.stats as st\n",
        "import seaborn as sns"
      ],
      "metadata": {
        "id": "TLznDEQuiq0w"
      },
      "id": "TLznDEQuiq0w",
      "execution_count": 1,
      "outputs": []
    },
    {
      "cell_type": "markdown",
      "source": [
        "##1 Optimización restringida: Hallando el mínimo de una función con el Método de la Bisección\n",
        "Dada la función $f(x)=x^3 - 6x^2 + 4x + 12$, utilizar el método de la bisección para encontrar el valor mínimo en el intervalo [1,4]. Usar una precisión de 0.01."
      ],
      "metadata": {
        "id": "zLBsXXzlbZJB"
      },
      "id": "zLBsXXzlbZJB"
    },
    {
      "cell_type": "code",
      "source": [
        "def f(x):\n",
        "  return x**3 - 6*x**2 + 4*x + 12\n",
        "\n",
        "def bisetion_method(f, a, b, precision):\n",
        "  while (b-a)/2 > precision:\n",
        "    c = (a+b)/2\n",
        "    if f(c) == 0:\n",
        "      return c\n",
        "    elif f(c) * f(a) < 0:\n",
        "      b=c\n",
        "    else:\n",
        "      a=c\n",
        "  return (a+b)/2\n",
        "\n",
        "min_value = bisetion_method(f, 1, 4, 0.01)\n",
        "print(\"El valor mínimo de la función es:\", min_value)"
      ],
      "metadata": {
        "id": "umV3meqQ7Cah",
        "colab": {
          "base_uri": "https://localhost:8080/"
        },
        "outputId": "3899ae0a-6f2f-4bba-aede-ed0ba6de6ee1"
      },
      "id": "umV3meqQ7Cah",
      "execution_count": 3,
      "outputs": [
        {
          "output_type": "stream",
          "name": "stdout",
          "text": [
            "El valor mínimo de la función es: 2.517578125\n"
          ]
        }
      ]
    },
    {
      "cell_type": "markdown",
      "id": "b2418245",
      "metadata": {
        "id": "b2418245"
      },
      "source": [
        "##2. Encontrando el mínimo de una función\n",
        "Dada la siguiente función cuadrática $f(x) = x^2 - 4x + 4$, encuentre el valor mínimo utilizando la derivada de la función. Implemente una función en Python que reciba como parámetro `x` y retorne el valor de $f(x)$ y otra función que reciba como parámetro `x` y retorne el valor de la derivada de $f(x)$. Luego, evalúe la función y su derivada en el punto crítico."
      ]
    },
    {
      "cell_type": "code",
      "execution_count": 4,
      "id": "88d7b71f",
      "metadata": {
        "id": "88d7b71f",
        "colab": {
          "base_uri": "https://localhost:8080/"
        },
        "outputId": "1e1083b2-a7ad-4803-e36a-674089a9748e"
      },
      "outputs": [
        {
          "output_type": "stream",
          "name": "stdout",
          "text": [
            "Función evaluada en x_crítico = 0\n",
            "Derivada evaluada en x_crítico = 0\n",
            "El mínimo se encuentra en x = 2\n"
          ]
        }
      ],
      "source": [
        "def funcion_cuadratica(x):\n",
        "    return x**2 - 4*x + 4\n",
        "\n",
        "def derivada_funcion_cuadratica(x):\n",
        "    return 2*x - 4\n",
        "# Encontrar el punto crítico resolviendo f'(x) = 0\n",
        "x_critico = 2  # Derivada de la función cuadrática: 2*x - 4 = 0 -> x = 2\n",
        "\n",
        "# Evaluar la función f(x) y f'(x) en el punto crítico x=2\n",
        "print(\"Función evaluada en x_crítico =\", funcion_cuadratica(x_critico))\n",
        "print(\"Derivada evaluada en x_crítico =\", derivada_funcion_cuadratica(x_critico))\n",
        "print(\"El mínimo se encuentra en x =\", x_critico)"
      ]
    }
  ],
  "metadata": {
    "colab": {
      "provenance": [],
      "include_colab_link": true
    },
    "language_info": {
      "name": "python"
    },
    "kernelspec": {
      "name": "python3",
      "display_name": "Python 3"
    }
  },
  "nbformat": 4,
  "nbformat_minor": 5
}