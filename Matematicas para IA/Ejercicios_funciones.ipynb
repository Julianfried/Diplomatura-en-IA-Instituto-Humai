{
  "nbformat": 4,
  "nbformat_minor": 0,
  "metadata": {
    "colab": {
      "provenance": [],
      "include_colab_link": true
    },
    "kernelspec": {
      "name": "python3",
      "display_name": "Python 3"
    },
    "language_info": {
      "name": "python"
    }
  },
  "cells": [
    {
      "cell_type": "markdown",
      "metadata": {
        "id": "view-in-github",
        "colab_type": "text"
      },
      "source": [
        "<a href=\"https://colab.research.google.com/github/Julianfried/Diplomatura-en-IA-Instituto-Humai/blob/main/Matematicas%20para%20IA/Ejercicios_funciones.ipynb\" target=\"_parent\"><img src=\"https://colab.research.google.com/assets/colab-badge.svg\" alt=\"Open In Colab\"/></a>"
      ]
    },
    {
      "cell_type": "markdown",
      "source": [
        "# **Ejercicios de la clase 4 - Funciones, derivadas e integrales**"
      ],
      "metadata": {
        "id": "YHBskT2bYMsi"
      }
    },
    {
      "cell_type": "markdown",
      "source": [
        "## 1) Considerando la función $f(x) = x^2 - 3x$, calculá la derivada de f(x) utilizando la regla del producto y la regla de la potencia."
      ],
      "metadata": {
        "id": "FHzvGenGYdzL"
      }
    },
    {
      "cell_type": "code",
      "execution_count": null,
      "metadata": {
        "id": "M9xqQ3avYJ6D",
        "colab": {
          "base_uri": "https://localhost:8080/"
        },
        "outputId": "9b5b3c82-12d5-4fb4-d76c-089b52d5e495"
      },
      "outputs": [
        {
          "output_type": "stream",
          "name": "stdout",
          "text": [
            "Derivada utilizando la regla del producto: x**2 + x*(2*x - 3) - 3*x\n",
            "Derivada utilizando la regla de la potencia: 2*x - 3\n"
          ]
        }
      ],
      "source": [
        "from sympy import symbols, diff\n",
        "import numpy as np\n",
        "\n",
        "# Definición de la función f(x)\n",
        "x = symbols('x')\n",
        "f = x**2 - 3*x\n",
        "# Derivada de f(x) utilizando la regla del producto\n",
        "df_product = diff(f*x,x)\n",
        "# Derivada de f(x) utilizando la regla de la potencia\n",
        "df_power = diff(x**2,x) - diff(3*x,x)\n",
        "# Imprimir las derivadas obtenidas\n",
        "print(\"Derivada utilizando la regla del producto:\", df_product)\n",
        "print(\"Derivada utilizando la regla de la potencia:\", df_power)"
      ]
    },
    {
      "cell_type": "markdown",
      "source": [
        "\n",
        "## 2) Dada la función $h(x) = 3x^3 - 4x^2 + 2x - 5$, encuentra su derivada utilizando la linearidad de la derivada."
      ],
      "metadata": {
        "id": "0Xw89lIrYj-S"
      }
    },
    {
      "cell_type": "code",
      "source": [
        "# Definición de la función h(x)\n",
        "x = symbols('x')\n",
        "h = 3*x**3 - 4*x**2 + 2*x - 5\n",
        "\n",
        "# Derivada de h(x) utilizando la linearidad de la derivada\n",
        "df_h = 3*diff(x**3, x) - 4*diff(x**2,x) + 2*diff(x,x) - 0\n",
        "# Imprimir la derivada obtenida\n",
        "print(df_h)"
      ],
      "metadata": {
        "id": "BfwNB2thY9-D",
        "colab": {
          "base_uri": "https://localhost:8080/"
        },
        "outputId": "9862196b-26ec-4c3a-b5fb-02bd89a58166"
      },
      "execution_count": null,
      "outputs": [
        {
          "output_type": "stream",
          "name": "stdout",
          "text": [
            "9*x**2 - 8*x + 2\n"
          ]
        }
      ]
    },
    {
      "cell_type": "markdown",
      "source": [
        "## 3) Utilizando SymPy en Python, calcula las primeras cinco derivadas de orden superior para la función $f(x) = x^3 + 2x^2 - 5x + 1$. Luego, identifica el patrón que se forma con las derivadas y calcula la derivada de orden 10 $(\\frac {d^{10}f(x)}{dx^{10}})$."
      ],
      "metadata": {
        "id": "mODtuM97Zs07"
      }
    },
    {
      "cell_type": "code",
      "source": [
        "# Definición de la función f(x)\n",
        "x = symbols('x')\n",
        "f = x**3 + 2*x**2 - 5*x + 1\n",
        "# Cálculo de las primeras cinco derivadas de orden superior\n",
        "d1f = diff(f, x)\n",
        "d2f = diff(d1f, x)\n",
        "d3f = diff(d2f, x)\n",
        "d4f = diff(d3f, x)\n",
        "d5f = diff(d4f, x)\n",
        "\n",
        "# Imprimir las derivadas obtenidas\n",
        "print(\"Primera derivada:\", d1f)\n",
        "print(\"Segunda derivada:\", d2f)\n",
        "print(\"Tercera derivada:\", d3f)\n",
        "print(\"Cuarta derivada:\", d4f)\n",
        "print(\"Quinta derivada:\", d5f)\n",
        "\n",
        "# Identificación del patrón\n",
        "print(\"\\nPatron:\")\n",
        "for i in range(1,6):\n",
        "  print(f\"d{i}f= {diff(f,x,i)}\")\n",
        "# Cálculo de la derivada de orden 10\n",
        "d10f = diff(f,x,10)\n",
        "print(\"\\nDerivada de orden 10:\", d10f)\n"
      ],
      "metadata": {
        "id": "JypKldiwZr70",
        "colab": {
          "base_uri": "https://localhost:8080/"
        },
        "outputId": "a41c502b-002d-4c90-c418-c93607b09b5b"
      },
      "execution_count": null,
      "outputs": [
        {
          "output_type": "stream",
          "name": "stdout",
          "text": [
            "Primera derivada: 3*x**2 + 4*x - 5\n",
            "Segunda derivada: 6*x + 4\n",
            "Tercera derivada: 6\n",
            "Cuarta derivada: 0\n",
            "Quinta derivada: 0\n",
            "\n",
            "Patron:\n",
            "d1f= 3*x**2 + 4*x - 5\n",
            "d2f= 2*(3*x + 2)\n",
            "d3f= 6\n",
            "d4f= 0\n",
            "d5f= 0\n",
            "\n",
            "Derivada de orden 10: 0\n"
          ]
        }
      ]
    },
    {
      "cell_type": "markdown",
      "source": [
        "## 4) Considera la función $f(x, y) = x^2 + 3xy - y^2$. Calcula las derivadas parciales de $f(x, y)$ con respecto a x y y."
      ],
      "metadata": {
        "id": "JHHCjFpJaBf8"
      }
    },
    {
      "cell_type": "code",
      "source": [
        "# Definir las variables simbólicas\n",
        "x, y = symbols('x y')\n",
        "# Definir la función\n",
        "f = x**2 + 3*x*y - y**2\n",
        "# Calcular la derivada parcial con respecto a x\n",
        "df_dx = diff(f,x)\n",
        "print(\"Derivada parcial con respecto a x (df/dx):\", df_dx)\n",
        "\n",
        "# Calcular la derivada parcial con respecto a y\n",
        "df_dy = diff(f,y)\n",
        "print(\"Derivada parcial con respecto a y (df/dy):\", df_dy)"
      ],
      "metadata": {
        "id": "gIdmWTE3aK6w",
        "colab": {
          "base_uri": "https://localhost:8080/"
        },
        "outputId": "07d3df8b-c130-49db-8529-b78d70d212a5"
      },
      "execution_count": null,
      "outputs": [
        {
          "output_type": "stream",
          "name": "stdout",
          "text": [
            "Derivada parcial con respecto a x (df/dx): 2*x + 3*y\n",
            "Derivada parcial con respecto a y (df/dy): 3*x - 2*y\n"
          ]
        }
      ]
    },
    {
      "cell_type": "markdown",
      "source": [
        "## 5) Considera la función $f(x, y) = x^3 + 2xy^2 - y^3$. Calcula la matriz Jacobiana y la matriz Hessiana de $f(x, y)$."
      ],
      "metadata": {
        "id": "STjYwdqfaPbs"
      }
    },
    {
      "cell_type": "code",
      "source": [
        "# Definir las variables simbólicas\n",
        "x, y = symbols('x y')\n",
        "# Definir la función f(x, y)\n",
        "f = x**3 + 2*x*y**2 - y**3\n",
        "# Calcular las derivadas parciales de f(x, y)\n",
        "df_dx = diff(f,x)\n",
        "df_dy = diff(f,y)\n",
        "# Imprimir las derivadas parciales\n",
        "print(\"Derivada parcial con respecto a x (df/dx):\", df_dx)\n",
        "print(\"Derivada parcial con respecto a y (df/dy):\", df_dy)\n",
        "# Calcular la matriz Jacobiana\n",
        "jacobian = [\n",
        "    [diff(df_dx, x), diff(df_dx,y)],\n",
        "    [diff(df_dy, x), diff(df_dy, y)]\n",
        "]\n",
        "\n",
        "# Imprimir la matriz Jacobiana\n",
        "print(\"Matriz Jacobiana de f(x,y:)\")\n",
        "for row in jacobian:\n",
        "  print(row)\n",
        "# Calcular las derivadas parciales de segundo orden\n",
        "d2f_dx2 = diff(df_dx,x)\n",
        "d2f_dy2 = diff(df_dy,y)\n",
        "d2f_dxdy = diff(df_dx, y)\n",
        "d2f_dydx = diff(df_dy, x)\n",
        "\n",
        "# Construir la matriz Hessiana\n",
        "hessian = [\n",
        "    [d2f_dx2, d2f_dxdy],\n",
        "    [d2f_dydx, d2f_dy2]\n",
        "]\n",
        "\n",
        "# Imprimir la matriz Hessiana\n",
        "print(\"Matriz Hessiana de f(x, y):\")\n",
        "for row in hessian:\n",
        "    print(row)\n"
      ],
      "metadata": {
        "id": "rLBiRbfmaMVE",
        "colab": {
          "base_uri": "https://localhost:8080/"
        },
        "outputId": "3b922062-4764-4889-a6a6-6de834c63cd1"
      },
      "execution_count": null,
      "outputs": [
        {
          "output_type": "stream",
          "name": "stdout",
          "text": [
            "Derivada parcial con respecto a x (df/dx): 3*x**2 + 2*y**2\n",
            "Derivada parcial con respecto a y (df/dy): 4*x*y - 3*y**2\n",
            "Matriz Jacobiana de f(x,y:)\n",
            "[6*x, 4*y]\n",
            "[4*y, 4*x - 6*y]\n",
            "Matriz Hessiana de f(x, y):\n",
            "[6*x, 4*y]\n",
            "[4*y, 4*x - 6*y]\n"
          ]
        }
      ]
    }
  ]
}