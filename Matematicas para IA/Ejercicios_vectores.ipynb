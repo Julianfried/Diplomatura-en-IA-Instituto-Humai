{
  "nbformat": 4,
  "nbformat_minor": 0,
  "metadata": {
    "colab": {
      "provenance": [],
      "include_colab_link": true
    },
    "kernelspec": {
      "name": "python3",
      "display_name": "Python 3"
    },
    "language_info": {
      "name": "python"
    }
  },
  "cells": [
    {
      "cell_type": "markdown",
      "metadata": {
        "id": "view-in-github",
        "colab_type": "text"
      },
      "source": [
        "<a href=\"https://colab.research.google.com/github/Julianfried/Diplomatura-en-IA-Instituto-Humai/blob/main/Matematicas%20para%20IA/Ejercicios_vectores.ipynb\" target=\"_parent\"><img src=\"https://colab.research.google.com/assets/colab-badge.svg\" alt=\"Open In Colab\"/></a>"
      ]
    },
    {
      "cell_type": "markdown",
      "source": [
        "# Ejercicios en vivo - clase 1 Matematica para IA"
      ],
      "metadata": {
        "id": "j1DQAQBSBgcL"
      }
    },
    {
      "cell_type": "code",
      "source": [
        "import numpy as np\n",
        "import matplotlib.pyplot as plt"
      ],
      "metadata": {
        "id": "ejMh8hLBBrtM"
      },
      "execution_count": 4,
      "outputs": []
    },
    {
      "cell_type": "markdown",
      "source": [
        "## 1) Realizar operaciones con vectores\n",
        "A partir de los vectores `u`, `v` y `t`\n",
        "\n",
        "1. Calcular el vector opuesto a `v` y llamarlo `w`\n",
        "2. Realizar la suma `u` + `t` + `t`\n",
        "3. Realizar la suma `u` + 2 `t`\n",
        "4. Obtener el vector normalizado de `v` y `w`"
      ],
      "metadata": {
        "id": "VzwrLWUV8SEH"
      }
    },
    {
      "cell_type": "code",
      "source": [
        "u = np.array([3, 5, 1])\n",
        "v = np.array([-4, 2, 4])\n",
        "t = np.array([7, 8, 3])"
      ],
      "metadata": {
        "id": "jobFjY1l9OJN"
      },
      "execution_count": 5,
      "outputs": []
    },
    {
      "cell_type": "code",
      "source": [
        "#1\n",
        "w=v*-1\n",
        "print(w)"
      ],
      "metadata": {
        "colab": {
          "base_uri": "https://localhost:8080/"
        },
        "id": "wXGdH9RroWdZ",
        "outputId": "f1784112-add3-41e0-8fb3-754760bf314c"
      },
      "execution_count": 6,
      "outputs": [
        {
          "output_type": "stream",
          "name": "stdout",
          "text": [
            "[ 4 -2 -4]\n"
          ]
        }
      ]
    },
    {
      "cell_type": "code",
      "source": [
        "#2\n",
        "u + t + t"
      ],
      "metadata": {
        "colab": {
          "base_uri": "https://localhost:8080/"
        },
        "id": "RmNuk0weoqDy",
        "outputId": "0a41d78d-ae26-4164-de8b-7b8e97588286"
      },
      "execution_count": 7,
      "outputs": [
        {
          "output_type": "execute_result",
          "data": {
            "text/plain": [
              "array([17, 21,  7])"
            ]
          },
          "metadata": {},
          "execution_count": 7
        }
      ]
    },
    {
      "cell_type": "code",
      "source": [
        "#3\n",
        "u+(2*t)"
      ],
      "metadata": {
        "colab": {
          "base_uri": "https://localhost:8080/"
        },
        "id": "Ut868MBQo0ot",
        "outputId": "914571dc-6eec-414e-ea18-cfd596d189e8"
      },
      "execution_count": 8,
      "outputs": [
        {
          "output_type": "execute_result",
          "data": {
            "text/plain": [
              "array([17, 21,  7])"
            ]
          },
          "metadata": {},
          "execution_count": 8
        }
      ]
    },
    {
      "cell_type": "code",
      "source": [
        "#4\n",
        "import numpy.linalg as LA\n",
        "v_norm = u/LA.norm(u)\n",
        "w_norm = w/LA.norm(w)\n",
        "print(v_norm)\n",
        "print(w_norm)"
      ],
      "metadata": {
        "colab": {
          "base_uri": "https://localhost:8080/"
        },
        "id": "o5RnBDAmo5K7",
        "outputId": "5c10e042-1b77-462d-d7ef-68da78be0a62"
      },
      "execution_count": 10,
      "outputs": [
        {
          "output_type": "stream",
          "name": "stdout",
          "text": [
            "[0.50709255 0.84515425 0.16903085]\n",
            "[ 0.66666667 -0.33333333 -0.66666667]\n"
          ]
        }
      ]
    },
    {
      "cell_type": "markdown",
      "source": [
        "## 2) Calcular proyecciones de vectores\n",
        "Utilizando alguna de las siguientes formulas equivalentes:\n",
        "\n",
        "$\\textbf{proj}_{\\textbf{u}}{\\textbf{v}} = \\dfrac{\\textbf{u} \\cdot \\textbf{v}}{\\left \\Vert \\textbf{u} \\right \\| ^2} \\times \\textbf{u}$\n",
        "\n",
        "$\\textbf{proj}_{\\textbf{u}}{\\textbf{v}} = (\\textbf{v} \\cdot \\hat{\\textbf{u}}) \\times \\hat{\\textbf{u}}$\n",
        "\n",
        "Obtener:\n",
        "- Proyeccion de `u` en `t`:\n",
        "$\\textbf{proj}_{\\textbf{t}}{\\textbf{u}}$\n",
        "- Proyeccion de `t` en `v`:\n",
        "$\\textbf{proj}_{\\textbf{v}}{\\textbf{t}}$"
      ],
      "metadata": {
        "id": "om1fSZcm-FeO"
      }
    },
    {
      "cell_type": "code",
      "source": [
        "def formula(vector1,vector2):\n",
        "  return (np.dot(vector1,vector2)/((LA.norm(vector1))**2))*vector1\n",
        "  "
      ],
      "metadata": {
        "id": "P2_cyd3kBpdd"
      },
      "execution_count": 17,
      "outputs": []
    },
    {
      "cell_type": "code",
      "source": [],
      "metadata": {
        "id": "nuF1NZZ9qFLB"
      },
      "execution_count": null,
      "outputs": []
    },
    {
      "cell_type": "code",
      "source": [
        "print(formula(u,t))\n",
        "print(formula(t,v))"
      ],
      "metadata": {
        "colab": {
          "base_uri": "https://localhost:8080/"
        },
        "id": "USEOlvKvqPMx",
        "outputId": "0faccfb1-f2cb-48e9-d780-508cc982802a"
      },
      "execution_count": 18,
      "outputs": [
        {
          "output_type": "stream",
          "name": "stdout",
          "text": [
            "[5.48571429 9.14285714 1.82857143]\n",
            "[0. 0. 0.]\n"
          ]
        }
      ]
    },
    {
      "cell_type": "markdown",
      "source": [
        "## 3) Crear una funcion `son_paralelos` entre dos vectores\n",
        "Dos vectores son paralelos si cuentan con una direccion, sin necesidad de tener el mismo sentido.\n",
        "- A partir de la definicion de producto vectorial: $\\textbf{u} \\times \\textbf{v} = \\left \\Vert \\textbf{u} \\right \\| \\times \\left \\Vert \\textbf{v} \\right \\| \\times sen(\\theta)$\n",
        "\n",
        "\n",
        "Es decir que si se conoce que `u` y `v` no son vectores nulos, si $\\textbf{u} \\times \\textbf{v} = 0$, entonces $sen(\\theta) = 0$. El angulo que hace 0 el seno es $2π$ y 0 (angulo de vectores paralelos).\n",
        "\n",
        "\n"
      ],
      "metadata": {
        "id": "CowATgLg6EJy"
      }
    },
    {
      "cell_type": "code",
      "execution_count": 19,
      "metadata": {
        "id": "44xYR-tF1MbN",
        "colab": {
          "base_uri": "https://localhost:8080/"
        },
        "outputId": "ca561c42-5d28-40ef-88ca-9d370369106d"
      },
      "outputs": [
        {
          "output_type": "execute_result",
          "data": {
            "text/plain": [
              "0.9984114366459335"
            ]
          },
          "metadata": {},
          "execution_count": 19
        }
      ],
      "source": [
        "def son_paralelos(u, v):\n",
        "  cos_theta = u.dot(v) / LA.norm(u) / LA.norm(v)\n",
        "  theta = np.arccos(np.clip(cos_theta, -1, 1))\n",
        "  return np.sin(theta)\n",
        "son_paralelos(u,v)\n"
      ]
    }
  ]
}